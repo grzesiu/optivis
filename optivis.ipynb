{
 "cells": [
  {
   "cell_type": "code",
   "execution_count": 187,
   "metadata": {
    "collapsed": false
   },
   "outputs": [],
   "source": [
    "#%matplotlib notebook\n",
    "import itertools\n",
    "import matplotlib\n",
    "import matplotlib.pyplot as plt\n",
    "import numpy as np\n",
    "\n",
    "from functools import partial\n",
    "from abc import ABCMeta, abstractmethod\n",
    "from collections import deque\n",
    "from operator import itemgetter \n",
    "from IPython.display import HTML\n",
    "from matplotlib import animation, cm\n",
    "from mpl_toolkits.mplot3d import Axes3D"
   ]
  },
  {
   "cell_type": "code",
   "execution_count": 188,
   "metadata": {
    "collapsed": false
   },
   "outputs": [],
   "source": [
    "num = 11\n",
    "x = np.linspace(-50, 50, num)\n",
    "y = np.linspace(-50, 50, num)\n",
    "x, y = np.meshgrid(x, y)"
   ]
  },
  {
   "cell_type": "code",
   "execution_count": 189,
   "metadata": {
    "collapsed": false
   },
   "outputs": [],
   "source": [
    "z = x ** 2 + y ** 2\n",
    "criterion = np.min\n",
    "optimum = criterion(z)"
   ]
  },
  {
   "cell_type": "code",
   "execution_count": 190,
   "metadata": {
    "collapsed": false
   },
   "outputs": [
    {
     "name": "stdout",
     "output_type": "stream",
     "text": [
      "((1, 2), (2, 3))\n"
     ]
    },
    {
     "data": {
      "text/plain": [
       "array([ 2500.,  1300.])"
      ]
     },
     "execution_count": 190,
     "metadata": {},
     "output_type": "execute_result"
    }
   ],
   "source": [
    "idx1 = np.array([[1 ,2], [2, 3]])\n",
    "print(tuple(zip(*idx1)))\n",
    "z[tuple(zip(*idx1))]"
   ]
  },
  {
   "cell_type": "markdown",
   "metadata": {},
   "source": [
    "FITNESS FUNCTIONS"
   ]
  },
  {
   "cell_type": "code",
   "execution_count": 191,
   "metadata": {
    "collapsed": true
   },
   "outputs": [],
   "source": [
    "def sigmoid_distance_fitness(f, candidate_solution, k):\n",
    "    distance = abs(optimum - f[tuple(candidate_solution)])\n",
    "    return 1 - (1 / (1 + np.exp(- k * distance)))\n",
    "\n",
    "\n",
    "def maximize(f, point):\n",
    "    return f[point]\n",
    "\n",
    "\n",
    "def minimize(f, point):\n",
    "    return -f[point]"
   ]
  },
  {
   "cell_type": "markdown",
   "metadata": {},
   "source": [
    "NEIGHBORS FUNCTIONS"
   ]
  },
  {
   "cell_type": "code",
   "execution_count": 192,
   "metadata": {
    "collapsed": false
   },
   "outputs": [],
   "source": [
    "def l_inf_neighbors(point, shape):\n",
    "    x = (-1, 0, 1)\n",
    "    shifts = [p for p in itertools.product(x, repeat=len(shape))]\n",
    "    points = [tuple(map(sum, zip(point, shift))) for shift in shifts]\n",
    "    \n",
    "    def fits_in_bounds(point):\n",
    "        return all(i >= 0 for i in point) and all(p < s for p, s in zip(point, shape))\n",
    "        \n",
    "    return list(filter(fits_in_bounds, points))"
   ]
  },
  {
   "cell_type": "code",
   "execution_count": 193,
   "metadata": {
    "collapsed": false
   },
   "outputs": [
    {
     "data": {
      "text/plain": [
       "[(2, 4, 3),\n",
       " (2, 4, 4),\n",
       " (2, 4, 5),\n",
       " (2, 5, 3),\n",
       " (2, 5, 4),\n",
       " (2, 5, 5),\n",
       " (3, 4, 3),\n",
       " (3, 4, 4),\n",
       " (3, 4, 5),\n",
       " (3, 5, 3),\n",
       " (3, 5, 4),\n",
       " (3, 5, 5),\n",
       " (4, 4, 3),\n",
       " (4, 4, 4),\n",
       " (4, 4, 5),\n",
       " (4, 5, 3),\n",
       " (4, 5, 4),\n",
       " (4, 5, 5)]"
      ]
     },
     "execution_count": 193,
     "metadata": {},
     "output_type": "execute_result"
    }
   ],
   "source": [
    "l_inf_neighbors((3, 5, 4), (6, 6, 6))"
   ]
  },
  {
   "cell_type": "code",
   "execution_count": 194,
   "metadata": {
    "collapsed": true
   },
   "outputs": [],
   "source": [
    "def random_neighbor(shape):\n",
    "    return tuple([np.random.randint(i) for i in shape])"
   ]
  },
  {
   "cell_type": "code",
   "execution_count": 195,
   "metadata": {
    "collapsed": false
   },
   "outputs": [
    {
     "data": {
      "text/plain": [
       "(2, 0, 3)"
      ]
     },
     "execution_count": 195,
     "metadata": {},
     "output_type": "execute_result"
    }
   ],
   "source": [
    "random_neighbor((34,4,4))"
   ]
  },
  {
   "cell_type": "markdown",
   "metadata": {},
   "source": [
    "OPTIMIZATION METHODS"
   ]
  },
  {
   "cell_type": "code",
   "execution_count": 196,
   "metadata": {
    "collapsed": false
   },
   "outputs": [],
   "source": [
    "class Optimizer(metaclass=ABCMeta):\n",
    "    def __init__(self, fitness, neighbors_function):\n",
    "        self.fitness = fitness\n",
    "        self.neighbors_function = neighbors_function\n",
    "\n",
    "    @abstractmethod\n",
    "    def optimize(self):\n",
    "        raise NotImplementedError\n",
    "    \n",
    "    @staticmethod\n",
    "    def starting_point(shape):\n",
    "        return tuple(np.random.randint(i) for i in shape)"
   ]
  },
  {
   "cell_type": "markdown",
   "metadata": {},
   "source": [
    "1\\. GREEDY"
   ]
  },
  {
   "cell_type": "code",
   "execution_count": 197,
   "metadata": {
    "collapsed": false
   },
   "outputs": [],
   "source": [
    "class Greedy(Optimizer):\n",
    "    def optimize(self, f):\n",
    "        current = Optimizer.starting_point(f.shape)\n",
    "        better = True\n",
    "        while better:\n",
    "            better = False\n",
    "            for neighbor in self.neighbors_function(current, f.shape):\n",
    "                neighbor_value = f[neighbor]\n",
    "                if self.fitness(f, neighbor) > self.fitness(f, current):\n",
    "                    yield neighbor\n",
    "                    current = neighbor\n",
    "                    better = True\n",
    "                    break"
   ]
  },
  {
   "cell_type": "code",
   "execution_count": 198,
   "metadata": {
    "collapsed": false
   },
   "outputs": [
    {
     "name": "stdout",
     "output_type": "stream",
     "text": [
      "(1, 8)\n",
      "(1, 7)\n",
      "(1, 6)\n",
      "(1, 5)\n",
      "(2, 4)\n",
      "(2, 5)\n",
      "(3, 4)\n",
      "(3, 5)\n",
      "(4, 4)\n",
      "(4, 5)\n",
      "(5, 5)\n"
     ]
    }
   ],
   "source": [
    "g = Greedy(minimize, l_inf_neighbors)\n",
    "for i in g.optimize(z):\n",
    "    print(i)"
   ]
  },
  {
   "cell_type": "markdown",
   "metadata": {},
   "source": [
    "2\\. STEEPEST"
   ]
  },
  {
   "cell_type": "code",
   "execution_count": 199,
   "metadata": {
    "collapsed": true
   },
   "outputs": [],
   "source": [
    "class Steepest(Optimizer):\n",
    "    def optimize(self, f):\n",
    "        current = Optimizer.starting_point(f.shape)\n",
    "        better = True\n",
    "        while better:\n",
    "            better = False\n",
    "            for neighbor in self.neighbors_function(current, f.shape):\n",
    "                neighbor_value = f[neighbor]\n",
    "                if self.fitness(f, neighbor) > self.fitness(f, current):\n",
    "                    current = neighbor\n",
    "                    better = True\n",
    "            yield current"
   ]
  },
  {
   "cell_type": "code",
   "execution_count": 200,
   "metadata": {
    "collapsed": false
   },
   "outputs": [
    {
     "name": "stdout",
     "output_type": "stream",
     "text": [
      "(5, 5)\n",
      "(5, 5)\n"
     ]
    }
   ],
   "source": [
    "g = Steepest(minimize, l_inf_neighbors)\n",
    "for i in g.optimize(z):\n",
    "    print(i)"
   ]
  },
  {
   "cell_type": "markdown",
   "metadata": {},
   "source": [
    "2\\. SIMULATED ANNEALING"
   ]
  },
  {
   "cell_type": "code",
   "execution_count": 201,
   "metadata": {
    "collapsed": false
   },
   "outputs": [],
   "source": [
    "class SimulatedAnnealing(Optimizer):\n",
    "    \n",
    "    def __init__(self, fitness, neighbors_function, temperature_0, decay_factor, steps):\n",
    "        super().__init__(fitness, neighbors_function)\n",
    "        self.temperature_0 = temperature_0\n",
    "        self.decay_factor = decay_factor\n",
    "        self.steps = steps\n",
    "        self.neighbors_function = neighbors_function\n",
    "        \n",
    "    def optimize(self, f):\n",
    "        current = Optimizer.starting_point(f.shape)\n",
    "        yield current\n",
    "        for step in range(steps):\n",
    "            temperature = self.get_temperature(step)\n",
    "            neighbor = self.neighbors_function(f.shape)\n",
    "            if self.move_prob(f, current, neighbor, temperature) > np.random.random_sample():\n",
    "                current = neighbor\n",
    "                yield current\n",
    "\n",
    "    \n",
    "    def get_temperature(self, step):\n",
    "        return self.temperature_0 * self.decay_factor ** step\n",
    "\n",
    "    \n",
    "    @staticmethod\n",
    "    def nat_to_exp(q):\n",
    "        max_q = max(0.0, np.max(q))\n",
    "        rebased_q = q - max_q\n",
    "        return np.exp(rebased_q - np.logaddexp(-max_q, np.logaddexp.reduce(rebased_q)))\n",
    "\n",
    "\n",
    "    def move_prob(self, f, current, neighbor, temperature):\n",
    "        d_f = self.fitness(f, neighbor) - self.fitness(f, current)\n",
    "        return SimulatedAnnealing.nat_to_exp(d_f / temperature)\n",
    "    #     return 1 / (1 + np.exp(- d_f / temperature))"
   ]
  },
  {
   "cell_type": "code",
   "execution_count": 202,
   "metadata": {
    "collapsed": false
   },
   "outputs": [
    {
     "name": "stdout",
     "output_type": "stream",
     "text": [
      "(1, 7)\n",
      "(6, 9)\n",
      "(5, 4)\n",
      "(4, 5)\n",
      "(5, 5)\n",
      "(5, 5)\n",
      "(5, 5)\n",
      "(5, 5)\n",
      "(5, 5)\n",
      "(5, 5)\n"
     ]
    }
   ],
   "source": [
    "temperature_0 = 10\n",
    "decay_factor = 0.99\n",
    "steps = 1000\n",
    "\n",
    "simulated_annealing = SimulatedAnnealing(minimize, random_neighbor, temperature_0, decay_factor, steps)\n",
    "for i in simulated_annealing.optimize(z):\n",
    "    print(i)"
   ]
  },
  {
   "cell_type": "markdown",
   "metadata": {},
   "source": [
    "3\\. TABU SEARCH"
   ]
  },
  {
   "cell_type": "code",
   "execution_count": 203,
   "metadata": {
    "collapsed": true
   },
   "outputs": [],
   "source": [
    "class Tabu(Optimizer):\n",
    "    def __init__(self, fitness, neighbors_function, max_tabu_size, steps):\n",
    "        super().__init__(fitness, neighbors_function)\n",
    "        self.max_tabu_size = max_tabu_size \n",
    "        self.steps = steps\n",
    "        \n",
    "    def optimize(self, f):\n",
    "        best = Optimizer.starting_point(f.shape)\n",
    "        yield best\n",
    "        candidate = best\n",
    "        tabu_list = deque([], self.max_tabu_size)\n",
    "        tabu_list.append(best)\n",
    "        for step in range(self.steps):\n",
    "            neighbors = self.neighbors_function(candidate, f.shape)\n",
    "            candidate = neighbors[0]\n",
    "            for neighbor in neighbors:\n",
    "                neighbor =  neighbor\n",
    "                if (not candidate in tabu_list) and (self.fitness(f, neighbor) > self.fitness(f, candidate)):\n",
    "                    candidate = neighbor\n",
    "\n",
    "            if self.fitness(f, candidate) > self.fitness(f, best):\n",
    "                best = candidate\n",
    "                yield best\n",
    "\n",
    "            tabu_list.append(candidate)"
   ]
  },
  {
   "cell_type": "code",
   "execution_count": 204,
   "metadata": {
    "collapsed": false
   },
   "outputs": [
    {
     "name": "stdout",
     "output_type": "stream",
     "text": [
      "(7, 9)\n",
      "(6, 8)\n",
      "(5, 7)\n",
      "(5, 6)\n",
      "(5, 5)\n"
     ]
    }
   ],
   "source": [
    "tabu = Tabu(minimize, l_inf_neighbors, 5, 100)\n",
    "for i in tabu.optimize(z):\n",
    "    print(i)"
   ]
  },
  {
   "cell_type": "markdown",
   "metadata": {},
   "source": [
    "4\\. GENETIC ALGORITHM"
   ]
  },
  {
   "cell_type": "code",
   "execution_count": 205,
   "metadata": {
    "collapsed": true
   },
   "outputs": [],
   "source": [
    "class Operator(metaclass=ABCMeta):\n",
    "    @abstractmethod\n",
    "    def apply(self, f, population):\n",
    "        raise NotImplementedError"
   ]
  },
  {
   "cell_type": "code",
   "execution_count": 206,
   "metadata": {
    "collapsed": false,
    "scrolled": true
   },
   "outputs": [],
   "source": [
    "class Mutation(Operator):\n",
    "    def __init__(self, mutation_probability):\n",
    "        self.mutation_probability =  mutation_probability\n",
    "        \n",
    "    def apply(self, f, population):\n",
    "        breed = []\n",
    "        for candidate_solution in population:\n",
    "            for index in range(len(candidate_solution)):            \n",
    "                if np.random.random_sample() < self.mutation_probability:\n",
    "                    candidate_solution = list(candidate_solution)\n",
    "                    candidate_solution[index] = np.random.randint(f.shape[index])\n",
    "                    candidate_solution = tuple(candidate_solution)\n",
    "            breed.append(candidate_solution)\n",
    "        return breed\n"
   ]
  },
  {
   "cell_type": "code",
   "execution_count": 207,
   "metadata": {
    "collapsed": false
   },
   "outputs": [
    {
     "name": "stdout",
     "output_type": "stream",
     "text": [
      "[(2, 4), (9, 4), (2, 5), (2, 3), (1, 6), (10, 1), (6, 1), (4, 7), (5, 0), (7, 3), (7, 5), (2, 7), (6, 1), (6, 3), (10, 8), (7, 8), (2, 1), (2, 9), (7, 9), (5, 4)]\n",
      "[(2, 4), (9, 5), (2, 5), (2, 7), (1, 6), (10, 1), (6, 8), (4, 9), (5, 0), (7, 3), (7, 5), (2, 7), (6, 1), (6, 3), (10, 8), (7, 8), (2, 1), (2, 9), (7, 9), (5, 4)]\n"
     ]
    }
   ],
   "source": [
    "population = [Optimizer.starting_point(z.shape) for _ in range(20)]\n",
    "print(population)\n",
    "print(Mutation(0.1).apply(z, population))"
   ]
  },
  {
   "cell_type": "code",
   "execution_count": 208,
   "metadata": {
    "collapsed": false
   },
   "outputs": [],
   "source": [
    "class Crossover(Operator):\n",
    "    def __init__(self, fitness, type_):\n",
    "        self.fitness = fitness\n",
    "        self.type_ = type_\n",
    "        \n",
    "    def select_candidate(self, population, probabilities):\n",
    "        index = np.random.choice(range(len(population)), p=probabilities)\n",
    "        return population[index]\n",
    "\n",
    "    def crossover_probabilities(self, f, population):\n",
    "        fitnesses = [self.fitness(f, candidate_solution) for candidate_solution in population]\n",
    "        fitnesses_sum = sum(fitnesses)\n",
    "        return [fitness / fitnesses_sum for fitness in fitnesses]\n",
    "\n",
    "    def apply(self, f, population):\n",
    "        breed = []\n",
    "        probabilities = self.crossover_probabilities(f, population)\n",
    "        while len(breed) < len(population):\n",
    "            child = list(self.select_candidate(population, probabilities))\n",
    "            parent = self.select_candidate(population, probabilities)\n",
    "            if self.type_ == \"single\":\n",
    "                crossover_point = np.random.randint(len(child))\n",
    "                child[crossover_point:] = parent[crossover_point:]\n",
    "            elif self.type_ == \"double\":\n",
    "                crossover_point_1 = np.random.randint(child.shape[0])\n",
    "                crossover_point_2 = np.random.randint(child.shape[0])\n",
    "                child[crossover_point_1:crossover_point_2] = parent[crossover_point_1:crossover_point_2]\n",
    "            child = tuple(child)\n",
    "            breed.append(child)\n",
    "        return breed"
   ]
  },
  {
   "cell_type": "code",
   "execution_count": 209,
   "metadata": {
    "collapsed": false,
    "scrolled": true
   },
   "outputs": [
    {
     "name": "stdout",
     "output_type": "stream",
     "text": [
      "0.000195204739499 (9, 4)\n",
      "3.57601365181e-06 (10, 5)\n",
      "0.0727920967587 (7, 6)\n",
      "0.362280994427 (5, 6)\n",
      "4.35629493128e-05 (3, 9)\n",
      "1.1996234112e-09 (0, 9)\n",
      "0.0105428655265 (2, 5)\n",
      "0.00144050653541 (8, 3)\n",
      "0.000118407137005 (2, 2)\n",
      "0.0727920967587 (4, 7)\n",
      "0.479790687955 (5, 5)\n"
     ]
    }
   ],
   "source": [
    "population_size = 10\n",
    "population = [Optimizer.starting_point(z.shape) for _ in range(population_size)] + [(5,5)]\n",
    "c = Crossover(partial(sigmoid_distance_fitness, k=0.005), 'single')\n",
    "for (prob, point) in zip(c.crossover_probabilities(z, population), population):\n",
    "    print(prob, point)"
   ]
  },
  {
   "cell_type": "code",
   "execution_count": 210,
   "metadata": {
    "collapsed": false
   },
   "outputs": [],
   "source": [
    "class Selector(metaclass=ABCMeta):\n",
    "    def __init__(self, parents_size):\n",
    "        self.parents_size = parents_size\n",
    "        \n",
    "    @abstractmethod\n",
    "    def select(self, population, f, tournament_size, fitness):\n",
    "        raise NotImplementedError"
   ]
  },
  {
   "cell_type": "code",
   "execution_count": 211,
   "metadata": {
    "collapsed": false
   },
   "outputs": [],
   "source": [
    "class RouletteWheel(Selector):\n",
    "    def get_probs(self, population, f, fitness):\n",
    "        probs = np.array([fitness(f, point) for point in population])\n",
    "        probs = probs + abs(min(probs))\n",
    "        probs = probs / sum(probs)\n",
    "        return probs\n",
    "        \n",
    "    def select(self, population, f, fitness):\n",
    "        probs = self.get_probs(population, f, fitness)\n",
    "        indices = [np.random.choice(len(population), p=probs) for _ in range(self.parents_size)]\n",
    "        return itemgetter(*indices)(population)"
   ]
  },
  {
   "cell_type": "code",
   "execution_count": 212,
   "metadata": {
    "collapsed": false
   },
   "outputs": [
    {
     "name": "stdout",
     "output_type": "stream",
     "text": [
      "((3, 3), (2, 2), (1, 1), (5, 5), (2, 2))\n"
     ]
    }
   ],
   "source": [
    "p = [Optimizer.starting_point(z.shape) for _ in range(10)]\n",
    "p = [(i, i) for i in range(0, 11)]\n",
    "print(RouletteWheel(5).select(p, z, minimize))"
   ]
  },
  {
   "cell_type": "code",
   "execution_count": 213,
   "metadata": {
    "collapsed": true
   },
   "outputs": [],
   "source": [
    "class Tournament(Selector):\n",
    "    def __init__(self, parents_size, tournament_size):\n",
    "        super().__init__(parents_size)\n",
    "        self.tournament_size = tournament_size\n",
    "    \n",
    "    def get_tournament_winner(self, population, f, fitness):\n",
    "        indices = np.random.choice(len(population), self.tournament_size)\n",
    "        pool = itemgetter(*indices)(population)\n",
    "        return max(pool, key=partial(fitness, f))\n",
    "\n",
    "    def select(self, population, f, fitness):\n",
    "        return [self.get_tournament_winner(population, f, fitness) for _ in range(self.parents_size)]\n"
   ]
  },
  {
   "cell_type": "code",
   "execution_count": 214,
   "metadata": {
    "collapsed": false
   },
   "outputs": [
    {
     "data": {
      "text/plain": [
       "[(4, 3), (6, 8), (6, 3), (3, 4)]"
      ]
     },
     "execution_count": 214,
     "metadata": {},
     "output_type": "execute_result"
    }
   ],
   "source": [
    "p = [Optimizer.starting_point(z.shape) for _ in range(10)]\n",
    "Tournament(4, 6).select(p, z, minimize)"
   ]
  },
  {
   "cell_type": "code",
   "execution_count": 215,
   "metadata": {
    "collapsed": false
   },
   "outputs": [],
   "source": [
    "class Genetic(Optimizer):\n",
    "    def __init__(self, fitness, steps, population_size, operators, selector):\n",
    "        super().__init__(fitness, None)\n",
    "        self.steps = steps\n",
    "        self.population_size = population_size \n",
    "        self.operators = operators\n",
    "        self.selector = selector\n",
    "\n",
    "    def optimize(self, f):\n",
    "        population = [Optimizer.starting_point(f.shape) for _ in range(self.population_size)]\n",
    "        for step in range(self.steps):\n",
    "            parents = self.selector.select(population, f, self.fitness)\n",
    "            for operator in self.operators:\n",
    "                operator.apply(f, population)\n",
    "            yield population"
   ]
  },
  {
   "cell_type": "code",
   "execution_count": 216,
   "metadata": {
    "collapsed": false,
    "scrolled": true
   },
   "outputs": [
    {
     "name": "stdout",
     "output_type": "stream",
     "text": [
      "[(5, 2), (6, 2), (5, 0), (0, 0), (10, 2), (2, 3), (3, 6), (3, 9), (8, 1), (3, 3), (1, 9), (8, 2), (3, 9), (9, 0), (10, 0), (7, 0), (9, 5), (4, 2), (1, 3), (4, 0), (4, 3), (2, 0), (3, 3), (5, 2), (6, 0), (7, 7), (10, 0), (0, 1), (7, 0), (3, 2), (4, 10), (4, 0), (8, 0), (2, 3), (1, 9), (1, 9), (9, 0), (8, 2), (4, 0), (0, 2), (6, 4), (10, 0), (4, 0), (1, 3), (0, 9), (9, 4), (3, 5), (6, 3), (8, 9), (6, 5), (2, 7), (9, 2), (2, 0), (9, 8), (7, 7), (0, 1), (8, 8), (8, 8), (0, 9), (0, 2), (7, 4), (10, 6), (1, 4), (10, 3), (6, 4), (1, 5), (3, 5), (5, 3), (0, 5), (10, 8), (6, 1), (4, 2), (7, 7), (6, 3), (7, 3), (9, 8), (6, 4), (4, 6), (9, 10), (0, 0), (4, 2), (4, 1), (3, 0), (9, 4), (4, 8), (6, 5), (3, 10), (5, 3), (0, 1), (2, 2), (7, 9), (9, 8), (3, 8), (10, 6), (2, 7), (1, 1), (9, 2), (6, 10), (8, 6), (5, 7)]\n",
      "[(5, 2), (6, 2), (5, 0), (0, 0), (10, 2), (2, 3), (3, 6), (3, 9), (8, 1), (3, 3), (1, 9), (8, 2), (3, 9), (9, 0), (10, 0), (7, 0), (9, 5), (4, 2), (1, 3), (4, 0), (4, 3), (2, 0), (3, 3), (5, 2), (6, 0), (7, 7), (10, 0), (0, 1), (7, 0), (3, 2), (4, 10), (4, 0), (8, 0), (2, 3), (1, 9), (1, 9), (9, 0), (8, 2), (4, 0), (0, 2), (6, 4), (10, 0), (4, 0), (1, 3), (0, 9), (9, 4), (3, 5), (6, 3), (8, 9), (6, 5), (2, 7), (9, 2), (2, 0), (9, 8), (7, 7), (0, 1), (8, 8), (8, 8), (0, 9), (0, 2), (7, 4), (10, 6), (1, 4), (10, 3), (6, 4), (1, 5), (3, 5), (5, 3), (0, 5), (10, 8), (6, 1), (4, 2), (7, 7), (6, 3), (7, 3), (9, 8), (6, 4), (4, 6), (9, 10), (0, 0), (4, 2), (4, 1), (3, 0), (9, 4), (4, 8), (6, 5), (3, 10), (5, 3), (0, 1), (2, 2), (7, 9), (9, 8), (3, 8), (10, 6), (2, 7), (1, 1), (9, 2), (6, 10), (8, 6), (5, 7)]\n",
      "[(5, 2), (6, 2), (5, 0), (0, 0), (10, 2), (2, 3), (3, 6), (3, 9), (8, 1), (3, 3), (1, 9), (8, 2), (3, 9), (9, 0), (10, 0), (7, 0), (9, 5), (4, 2), (1, 3), (4, 0), (4, 3), (2, 0), (3, 3), (5, 2), (6, 0), (7, 7), (10, 0), (0, 1), (7, 0), (3, 2), (4, 10), (4, 0), (8, 0), (2, 3), (1, 9), (1, 9), (9, 0), (8, 2), (4, 0), (0, 2), (6, 4), (10, 0), (4, 0), (1, 3), (0, 9), (9, 4), (3, 5), (6, 3), (8, 9), (6, 5), (2, 7), (9, 2), (2, 0), (9, 8), (7, 7), (0, 1), (8, 8), (8, 8), (0, 9), (0, 2), (7, 4), (10, 6), (1, 4), (10, 3), (6, 4), (1, 5), (3, 5), (5, 3), (0, 5), (10, 8), (6, 1), (4, 2), (7, 7), (6, 3), (7, 3), (9, 8), (6, 4), (4, 6), (9, 10), (0, 0), (4, 2), (4, 1), (3, 0), (9, 4), (4, 8), (6, 5), (3, 10), (5, 3), (0, 1), (2, 2), (7, 9), (9, 8), (3, 8), (10, 6), (2, 7), (1, 1), (9, 2), (6, 10), (8, 6), (5, 7)]\n",
      "[(5, 2), (6, 2), (5, 0), (0, 0), (10, 2), (2, 3), (3, 6), (3, 9), (8, 1), (3, 3), (1, 9), (8, 2), (3, 9), (9, 0), (10, 0), (7, 0), (9, 5), (4, 2), (1, 3), (4, 0), (4, 3), (2, 0), (3, 3), (5, 2), (6, 0), (7, 7), (10, 0), (0, 1), (7, 0), (3, 2), (4, 10), (4, 0), (8, 0), (2, 3), (1, 9), (1, 9), (9, 0), (8, 2), (4, 0), (0, 2), (6, 4), (10, 0), (4, 0), (1, 3), (0, 9), (9, 4), (3, 5), (6, 3), (8, 9), (6, 5), (2, 7), (9, 2), (2, 0), (9, 8), (7, 7), (0, 1), (8, 8), (8, 8), (0, 9), (0, 2), (7, 4), (10, 6), (1, 4), (10, 3), (6, 4), (1, 5), (3, 5), (5, 3), (0, 5), (10, 8), (6, 1), (4, 2), (7, 7), (6, 3), (7, 3), (9, 8), (6, 4), (4, 6), (9, 10), (0, 0), (4, 2), (4, 1), (3, 0), (9, 4), (4, 8), (6, 5), (3, 10), (5, 3), (0, 1), (2, 2), (7, 9), (9, 8), (3, 8), (10, 6), (2, 7), (1, 1), (9, 2), (6, 10), (8, 6), (5, 7)]\n",
      "[(5, 2), (6, 2), (5, 0), (0, 0), (10, 2), (2, 3), (3, 6), (3, 9), (8, 1), (3, 3), (1, 9), (8, 2), (3, 9), (9, 0), (10, 0), (7, 0), (9, 5), (4, 2), (1, 3), (4, 0), (4, 3), (2, 0), (3, 3), (5, 2), (6, 0), (7, 7), (10, 0), (0, 1), (7, 0), (3, 2), (4, 10), (4, 0), (8, 0), (2, 3), (1, 9), (1, 9), (9, 0), (8, 2), (4, 0), (0, 2), (6, 4), (10, 0), (4, 0), (1, 3), (0, 9), (9, 4), (3, 5), (6, 3), (8, 9), (6, 5), (2, 7), (9, 2), (2, 0), (9, 8), (7, 7), (0, 1), (8, 8), (8, 8), (0, 9), (0, 2), (7, 4), (10, 6), (1, 4), (10, 3), (6, 4), (1, 5), (3, 5), (5, 3), (0, 5), (10, 8), (6, 1), (4, 2), (7, 7), (6, 3), (7, 3), (9, 8), (6, 4), (4, 6), (9, 10), (0, 0), (4, 2), (4, 1), (3, 0), (9, 4), (4, 8), (6, 5), (3, 10), (5, 3), (0, 1), (2, 2), (7, 9), (9, 8), (3, 8), (10, 6), (2, 7), (1, 1), (9, 2), (6, 10), (8, 6), (5, 7)]\n",
      "[(5, 2), (6, 2), (5, 0), (0, 0), (10, 2), (2, 3), (3, 6), (3, 9), (8, 1), (3, 3), (1, 9), (8, 2), (3, 9), (9, 0), (10, 0), (7, 0), (9, 5), (4, 2), (1, 3), (4, 0), (4, 3), (2, 0), (3, 3), (5, 2), (6, 0), (7, 7), (10, 0), (0, 1), (7, 0), (3, 2), (4, 10), (4, 0), (8, 0), (2, 3), (1, 9), (1, 9), (9, 0), (8, 2), (4, 0), (0, 2), (6, 4), (10, 0), (4, 0), (1, 3), (0, 9), (9, 4), (3, 5), (6, 3), (8, 9), (6, 5), (2, 7), (9, 2), (2, 0), (9, 8), (7, 7), (0, 1), (8, 8), (8, 8), (0, 9), (0, 2), (7, 4), (10, 6), (1, 4), (10, 3), (6, 4), (1, 5), (3, 5), (5, 3), (0, 5), (10, 8), (6, 1), (4, 2), (7, 7), (6, 3), (7, 3), (9, 8), (6, 4), (4, 6), (9, 10), (0, 0), (4, 2), (4, 1), (3, 0), (9, 4), (4, 8), (6, 5), (3, 10), (5, 3), (0, 1), (2, 2), (7, 9), (9, 8), (3, 8), (10, 6), (2, 7), (1, 1), (9, 2), (6, 10), (8, 6), (5, 7)]\n",
      "[(5, 2), (6, 2), (5, 0), (0, 0), (10, 2), (2, 3), (3, 6), (3, 9), (8, 1), (3, 3), (1, 9), (8, 2), (3, 9), (9, 0), (10, 0), (7, 0), (9, 5), (4, 2), (1, 3), (4, 0), (4, 3), (2, 0), (3, 3), (5, 2), (6, 0), (7, 7), (10, 0), (0, 1), (7, 0), (3, 2), (4, 10), (4, 0), (8, 0), (2, 3), (1, 9), (1, 9), (9, 0), (8, 2), (4, 0), (0, 2), (6, 4), (10, 0), (4, 0), (1, 3), (0, 9), (9, 4), (3, 5), (6, 3), (8, 9), (6, 5), (2, 7), (9, 2), (2, 0), (9, 8), (7, 7), (0, 1), (8, 8), (8, 8), (0, 9), (0, 2), (7, 4), (10, 6), (1, 4), (10, 3), (6, 4), (1, 5), (3, 5), (5, 3), (0, 5), (10, 8), (6, 1), (4, 2), (7, 7), (6, 3), (7, 3), (9, 8), (6, 4), (4, 6), (9, 10), (0, 0), (4, 2), (4, 1), (3, 0), (9, 4), (4, 8), (6, 5), (3, 10), (5, 3), (0, 1), (2, 2), (7, 9), (9, 8), (3, 8), (10, 6), (2, 7), (1, 1), (9, 2), (6, 10), (8, 6), (5, 7)]\n",
      "[(5, 2), (6, 2), (5, 0), (0, 0), (10, 2), (2, 3), (3, 6), (3, 9), (8, 1), (3, 3), (1, 9), (8, 2), (3, 9), (9, 0), (10, 0), (7, 0), (9, 5), (4, 2), (1, 3), (4, 0), (4, 3), (2, 0), (3, 3), (5, 2), (6, 0), (7, 7), (10, 0), (0, 1), (7, 0), (3, 2), (4, 10), (4, 0), (8, 0), (2, 3), (1, 9), (1, 9), (9, 0), (8, 2), (4, 0), (0, 2), (6, 4), (10, 0), (4, 0), (1, 3), (0, 9), (9, 4), (3, 5), (6, 3), (8, 9), (6, 5), (2, 7), (9, 2), (2, 0), (9, 8), (7, 7), (0, 1), (8, 8), (8, 8), (0, 9), (0, 2), (7, 4), (10, 6), (1, 4), (10, 3), (6, 4), (1, 5), (3, 5), (5, 3), (0, 5), (10, 8), (6, 1), (4, 2), (7, 7), (6, 3), (7, 3), (9, 8), (6, 4), (4, 6), (9, 10), (0, 0), (4, 2), (4, 1), (3, 0), (9, 4), (4, 8), (6, 5), (3, 10), (5, 3), (0, 1), (2, 2), (7, 9), (9, 8), (3, 8), (10, 6), (2, 7), (1, 1), (9, 2), (6, 10), (8, 6), (5, 7)]\n",
      "[(5, 2), (6, 2), (5, 0), (0, 0), (10, 2), (2, 3), (3, 6), (3, 9), (8, 1), (3, 3), (1, 9), (8, 2), (3, 9), (9, 0), (10, 0), (7, 0), (9, 5), (4, 2), (1, 3), (4, 0), (4, 3), (2, 0), (3, 3), (5, 2), (6, 0), (7, 7), (10, 0), (0, 1), (7, 0), (3, 2), (4, 10), (4, 0), (8, 0), (2, 3), (1, 9), (1, 9), (9, 0), (8, 2), (4, 0), (0, 2), (6, 4), (10, 0), (4, 0), (1, 3), (0, 9), (9, 4), (3, 5), (6, 3), (8, 9), (6, 5), (2, 7), (9, 2), (2, 0), (9, 8), (7, 7), (0, 1), (8, 8), (8, 8), (0, 9), (0, 2), (7, 4), (10, 6), (1, 4), (10, 3), (6, 4), (1, 5), (3, 5), (5, 3), (0, 5), (10, 8), (6, 1), (4, 2), (7, 7), (6, 3), (7, 3), (9, 8), (6, 4), (4, 6), (9, 10), (0, 0), (4, 2), (4, 1), (3, 0), (9, 4), (4, 8), (6, 5), (3, 10), (5, 3), (0, 1), (2, 2), (7, 9), (9, 8), (3, 8), (10, 6), (2, 7), (1, 1), (9, 2), (6, 10), (8, 6), (5, 7)]\n",
      "[(5, 2), (6, 2), (5, 0), (0, 0), (10, 2), (2, 3), (3, 6), (3, 9), (8, 1), (3, 3), (1, 9), (8, 2), (3, 9), (9, 0), (10, 0), (7, 0), (9, 5), (4, 2), (1, 3), (4, 0), (4, 3), (2, 0), (3, 3), (5, 2), (6, 0), (7, 7), (10, 0), (0, 1), (7, 0), (3, 2), (4, 10), (4, 0), (8, 0), (2, 3), (1, 9), (1, 9), (9, 0), (8, 2), (4, 0), (0, 2), (6, 4), (10, 0), (4, 0), (1, 3), (0, 9), (9, 4), (3, 5), (6, 3), (8, 9), (6, 5), (2, 7), (9, 2), (2, 0), (9, 8), (7, 7), (0, 1), (8, 8), (8, 8), (0, 9), (0, 2), (7, 4), (10, 6), (1, 4), (10, 3), (6, 4), (1, 5), (3, 5), (5, 3), (0, 5), (10, 8), (6, 1), (4, 2), (7, 7), (6, 3), (7, 3), (9, 8), (6, 4), (4, 6), (9, 10), (0, 0), (4, 2), (4, 1), (3, 0), (9, 4), (4, 8), (6, 5), (3, 10), (5, 3), (0, 1), (2, 2), (7, 9), (9, 8), (3, 8), (10, 6), (2, 7), (1, 1), (9, 2), (6, 10), (8, 6), (5, 7)]\n",
      "[(5, 2), (6, 2), (5, 0), (0, 0), (10, 2), (2, 3), (3, 6), (3, 9), (8, 1), (3, 3), (1, 9), (8, 2), (3, 9), (9, 0), (10, 0), (7, 0), (9, 5), (4, 2), (1, 3), (4, 0), (4, 3), (2, 0), (3, 3), (5, 2), (6, 0), (7, 7), (10, 0), (0, 1), (7, 0), (3, 2), (4, 10), (4, 0), (8, 0), (2, 3), (1, 9), (1, 9), (9, 0), (8, 2), (4, 0), (0, 2), (6, 4), (10, 0), (4, 0), (1, 3), (0, 9), (9, 4), (3, 5), (6, 3), (8, 9), (6, 5), (2, 7), (9, 2), (2, 0), (9, 8), (7, 7), (0, 1), (8, 8), (8, 8), (0, 9), (0, 2), (7, 4), (10, 6), (1, 4), (10, 3), (6, 4), (1, 5), (3, 5), (5, 3), (0, 5), (10, 8), (6, 1), (4, 2), (7, 7), (6, 3), (7, 3), (9, 8), (6, 4), (4, 6), (9, 10), (0, 0), (4, 2), (4, 1), (3, 0), (9, 4), (4, 8), (6, 5), (3, 10), (5, 3), (0, 1), (2, 2), (7, 9), (9, 8), (3, 8), (10, 6), (2, 7), (1, 1), (9, 2), (6, 10), (8, 6), (5, 7)]\n",
      "[(5, 2), (6, 2), (5, 0), (0, 0), (10, 2), (2, 3), (3, 6), (3, 9), (8, 1), (3, 3), (1, 9), (8, 2), (3, 9), (9, 0), (10, 0), (7, 0), (9, 5), (4, 2), (1, 3), (4, 0), (4, 3), (2, 0), (3, 3), (5, 2), (6, 0), (7, 7), (10, 0), (0, 1), (7, 0), (3, 2), (4, 10), (4, 0), (8, 0), (2, 3), (1, 9), (1, 9), (9, 0), (8, 2), (4, 0), (0, 2), (6, 4), (10, 0), (4, 0), (1, 3), (0, 9), (9, 4), (3, 5), (6, 3), (8, 9), (6, 5), (2, 7), (9, 2), (2, 0), (9, 8), (7, 7), (0, 1), (8, 8), (8, 8), (0, 9), (0, 2), (7, 4), (10, 6), (1, 4), (10, 3), (6, 4), (1, 5), (3, 5), (5, 3), (0, 5), (10, 8), (6, 1), (4, 2), (7, 7), (6, 3), (7, 3), (9, 8), (6, 4), (4, 6), (9, 10), (0, 0), (4, 2), (4, 1), (3, 0), (9, 4), (4, 8), (6, 5), (3, 10), (5, 3), (0, 1), (2, 2), (7, 9), (9, 8), (3, 8), (10, 6), (2, 7), (1, 1), (9, 2), (6, 10), (8, 6), (5, 7)]\n",
      "[(5, 2), (6, 2), (5, 0), (0, 0), (10, 2), (2, 3), (3, 6), (3, 9), (8, 1), (3, 3), (1, 9), (8, 2), (3, 9), (9, 0), (10, 0), (7, 0), (9, 5), (4, 2), (1, 3), (4, 0), (4, 3), (2, 0), (3, 3), (5, 2), (6, 0), (7, 7), (10, 0), (0, 1), (7, 0), (3, 2), (4, 10), (4, 0), (8, 0), (2, 3), (1, 9), (1, 9), (9, 0), (8, 2), (4, 0), (0, 2), (6, 4), (10, 0), (4, 0), (1, 3), (0, 9), (9, 4), (3, 5), (6, 3), (8, 9), (6, 5), (2, 7), (9, 2), (2, 0), (9, 8), (7, 7), (0, 1), (8, 8), (8, 8), (0, 9), (0, 2), (7, 4), (10, 6), (1, 4), (10, 3), (6, 4), (1, 5), (3, 5), (5, 3), (0, 5), (10, 8), (6, 1), (4, 2), (7, 7), (6, 3), (7, 3), (9, 8), (6, 4), (4, 6), (9, 10), (0, 0), (4, 2), (4, 1), (3, 0), (9, 4), (4, 8), (6, 5), (3, 10), (5, 3), (0, 1), (2, 2), (7, 9), (9, 8), (3, 8), (10, 6), (2, 7), (1, 1), (9, 2), (6, 10), (8, 6), (5, 7)]\n",
      "[(5, 2), (6, 2), (5, 0), (0, 0), (10, 2), (2, 3), (3, 6), (3, 9), (8, 1), (3, 3), (1, 9), (8, 2), (3, 9), (9, 0), (10, 0), (7, 0), (9, 5), (4, 2), (1, 3), (4, 0), (4, 3), (2, 0), (3, 3), (5, 2), (6, 0), (7, 7), (10, 0), (0, 1), (7, 0), (3, 2), (4, 10), (4, 0), (8, 0), (2, 3), (1, 9), (1, 9), (9, 0), (8, 2), (4, 0), (0, 2), (6, 4), (10, 0), (4, 0), (1, 3), (0, 9), (9, 4), (3, 5), (6, 3), (8, 9), (6, 5), (2, 7), (9, 2), (2, 0), (9, 8), (7, 7), (0, 1), (8, 8), (8, 8), (0, 9), (0, 2), (7, 4), (10, 6), (1, 4), (10, 3), (6, 4), (1, 5), (3, 5), (5, 3), (0, 5), (10, 8), (6, 1), (4, 2), (7, 7), (6, 3), (7, 3), (9, 8), (6, 4), (4, 6), (9, 10), (0, 0), (4, 2), (4, 1), (3, 0), (9, 4), (4, 8), (6, 5), (3, 10), (5, 3), (0, 1), (2, 2), (7, 9), (9, 8), (3, 8), (10, 6), (2, 7), (1, 1), (9, 2), (6, 10), (8, 6), (5, 7)]\n",
      "[(5, 2), (6, 2), (5, 0), (0, 0), (10, 2), (2, 3), (3, 6), (3, 9), (8, 1), (3, 3), (1, 9), (8, 2), (3, 9), (9, 0), (10, 0), (7, 0), (9, 5), (4, 2), (1, 3), (4, 0), (4, 3), (2, 0), (3, 3), (5, 2), (6, 0), (7, 7), (10, 0), (0, 1), (7, 0), (3, 2), (4, 10), (4, 0), (8, 0), (2, 3), (1, 9), (1, 9), (9, 0), (8, 2), (4, 0), (0, 2), (6, 4), (10, 0), (4, 0), (1, 3), (0, 9), (9, 4), (3, 5), (6, 3), (8, 9), (6, 5), (2, 7), (9, 2), (2, 0), (9, 8), (7, 7), (0, 1), (8, 8), (8, 8), (0, 9), (0, 2), (7, 4), (10, 6), (1, 4), (10, 3), (6, 4), (1, 5), (3, 5), (5, 3), (0, 5), (10, 8), (6, 1), (4, 2), (7, 7), (6, 3), (7, 3), (9, 8), (6, 4), (4, 6), (9, 10), (0, 0), (4, 2), (4, 1), (3, 0), (9, 4), (4, 8), (6, 5), (3, 10), (5, 3), (0, 1), (2, 2), (7, 9), (9, 8), (3, 8), (10, 6), (2, 7), (1, 1), (9, 2), (6, 10), (8, 6), (5, 7)]\n",
      "[(5, 2), (6, 2), (5, 0), (0, 0), (10, 2), (2, 3), (3, 6), (3, 9), (8, 1), (3, 3), (1, 9), (8, 2), (3, 9), (9, 0), (10, 0), (7, 0), (9, 5), (4, 2), (1, 3), (4, 0), (4, 3), (2, 0), (3, 3), (5, 2), (6, 0), (7, 7), (10, 0), (0, 1), (7, 0), (3, 2), (4, 10), (4, 0), (8, 0), (2, 3), (1, 9), (1, 9), (9, 0), (8, 2), (4, 0), (0, 2), (6, 4), (10, 0), (4, 0), (1, 3), (0, 9), (9, 4), (3, 5), (6, 3), (8, 9), (6, 5), (2, 7), (9, 2), (2, 0), (9, 8), (7, 7), (0, 1), (8, 8), (8, 8), (0, 9), (0, 2), (7, 4), (10, 6), (1, 4), (10, 3), (6, 4), (1, 5), (3, 5), (5, 3), (0, 5), (10, 8), (6, 1), (4, 2), (7, 7), (6, 3), (7, 3), (9, 8), (6, 4), (4, 6), (9, 10), (0, 0), (4, 2), (4, 1), (3, 0), (9, 4), (4, 8), (6, 5), (3, 10), (5, 3), (0, 1), (2, 2), (7, 9), (9, 8), (3, 8), (10, 6), (2, 7), (1, 1), (9, 2), (6, 10), (8, 6), (5, 7)]\n",
      "[(5, 2), (6, 2), (5, 0), (0, 0), (10, 2), (2, 3), (3, 6), (3, 9), (8, 1), (3, 3), (1, 9), (8, 2), (3, 9), (9, 0), (10, 0), (7, 0), (9, 5), (4, 2), (1, 3), (4, 0), (4, 3), (2, 0), (3, 3), (5, 2), (6, 0), (7, 7), (10, 0), (0, 1), (7, 0), (3, 2), (4, 10), (4, 0), (8, 0), (2, 3), (1, 9), (1, 9), (9, 0), (8, 2), (4, 0), (0, 2), (6, 4), (10, 0), (4, 0), (1, 3), (0, 9), (9, 4), (3, 5), (6, 3), (8, 9), (6, 5), (2, 7), (9, 2), (2, 0), (9, 8), (7, 7), (0, 1), (8, 8), (8, 8), (0, 9), (0, 2), (7, 4), (10, 6), (1, 4), (10, 3), (6, 4), (1, 5), (3, 5), (5, 3), (0, 5), (10, 8), (6, 1), (4, 2), (7, 7), (6, 3), (7, 3), (9, 8), (6, 4), (4, 6), (9, 10), (0, 0), (4, 2), (4, 1), (3, 0), (9, 4), (4, 8), (6, 5), (3, 10), (5, 3), (0, 1), (2, 2), (7, 9), (9, 8), (3, 8), (10, 6), (2, 7), (1, 1), (9, 2), (6, 10), (8, 6), (5, 7)]\n",
      "[(5, 2), (6, 2), (5, 0), (0, 0), (10, 2), (2, 3), (3, 6), (3, 9), (8, 1), (3, 3), (1, 9), (8, 2), (3, 9), (9, 0), (10, 0), (7, 0), (9, 5), (4, 2), (1, 3), (4, 0), (4, 3), (2, 0), (3, 3), (5, 2), (6, 0), (7, 7), (10, 0), (0, 1), (7, 0), (3, 2), (4, 10), (4, 0), (8, 0), (2, 3), (1, 9), (1, 9), (9, 0), (8, 2), (4, 0), (0, 2), (6, 4), (10, 0), (4, 0), (1, 3), (0, 9), (9, 4), (3, 5), (6, 3), (8, 9), (6, 5), (2, 7), (9, 2), (2, 0), (9, 8), (7, 7), (0, 1), (8, 8), (8, 8), (0, 9), (0, 2), (7, 4), (10, 6), (1, 4), (10, 3), (6, 4), (1, 5), (3, 5), (5, 3), (0, 5), (10, 8), (6, 1), (4, 2), (7, 7), (6, 3), (7, 3), (9, 8), (6, 4), (4, 6), (9, 10), (0, 0), (4, 2), (4, 1), (3, 0), (9, 4), (4, 8), (6, 5), (3, 10), (5, 3), (0, 1), (2, 2), (7, 9), (9, 8), (3, 8), (10, 6), (2, 7), (1, 1), (9, 2), (6, 10), (8, 6), (5, 7)]\n",
      "[(5, 2), (6, 2), (5, 0), (0, 0), (10, 2), (2, 3), (3, 6), (3, 9), (8, 1), (3, 3), (1, 9), (8, 2), (3, 9), (9, 0), (10, 0), (7, 0), (9, 5), (4, 2), (1, 3), (4, 0), (4, 3), (2, 0), (3, 3), (5, 2), (6, 0), (7, 7), (10, 0), (0, 1), (7, 0), (3, 2), (4, 10), (4, 0), (8, 0), (2, 3), (1, 9), (1, 9), (9, 0), (8, 2), (4, 0), (0, 2), (6, 4), (10, 0), (4, 0), (1, 3), (0, 9), (9, 4), (3, 5), (6, 3), (8, 9), (6, 5), (2, 7), (9, 2), (2, 0), (9, 8), (7, 7), (0, 1), (8, 8), (8, 8), (0, 9), (0, 2), (7, 4), (10, 6), (1, 4), (10, 3), (6, 4), (1, 5), (3, 5), (5, 3), (0, 5), (10, 8), (6, 1), (4, 2), (7, 7), (6, 3), (7, 3), (9, 8), (6, 4), (4, 6), (9, 10), (0, 0), (4, 2), (4, 1), (3, 0), (9, 4), (4, 8), (6, 5), (3, 10), (5, 3), (0, 1), (2, 2), (7, 9), (9, 8), (3, 8), (10, 6), (2, 7), (1, 1), (9, 2), (6, 10), (8, 6), (5, 7)]\n",
      "[(5, 2), (6, 2), (5, 0), (0, 0), (10, 2), (2, 3), (3, 6), (3, 9), (8, 1), (3, 3), (1, 9), (8, 2), (3, 9), (9, 0), (10, 0), (7, 0), (9, 5), (4, 2), (1, 3), (4, 0), (4, 3), (2, 0), (3, 3), (5, 2), (6, 0), (7, 7), (10, 0), (0, 1), (7, 0), (3, 2), (4, 10), (4, 0), (8, 0), (2, 3), (1, 9), (1, 9), (9, 0), (8, 2), (4, 0), (0, 2), (6, 4), (10, 0), (4, 0), (1, 3), (0, 9), (9, 4), (3, 5), (6, 3), (8, 9), (6, 5), (2, 7), (9, 2), (2, 0), (9, 8), (7, 7), (0, 1), (8, 8), (8, 8), (0, 9), (0, 2), (7, 4), (10, 6), (1, 4), (10, 3), (6, 4), (1, 5), (3, 5), (5, 3), (0, 5), (10, 8), (6, 1), (4, 2), (7, 7), (6, 3), (7, 3), (9, 8), (6, 4), (4, 6), (9, 10), (0, 0), (4, 2), (4, 1), (3, 0), (9, 4), (4, 8), (6, 5), (3, 10), (5, 3), (0, 1), (2, 2), (7, 9), (9, 8), (3, 8), (10, 6), (2, 7), (1, 1), (9, 2), (6, 10), (8, 6), (5, 7)]\n",
      "[(5, 2), (6, 2), (5, 0), (0, 0), (10, 2), (2, 3), (3, 6), (3, 9), (8, 1), (3, 3), (1, 9), (8, 2), (3, 9), (9, 0), (10, 0), (7, 0), (9, 5), (4, 2), (1, 3), (4, 0), (4, 3), (2, 0), (3, 3), (5, 2), (6, 0), (7, 7), (10, 0), (0, 1), (7, 0), (3, 2), (4, 10), (4, 0), (8, 0), (2, 3), (1, 9), (1, 9), (9, 0), (8, 2), (4, 0), (0, 2), (6, 4), (10, 0), (4, 0), (1, 3), (0, 9), (9, 4), (3, 5), (6, 3), (8, 9), (6, 5), (2, 7), (9, 2), (2, 0), (9, 8), (7, 7), (0, 1), (8, 8), (8, 8), (0, 9), (0, 2), (7, 4), (10, 6), (1, 4), (10, 3), (6, 4), (1, 5), (3, 5), (5, 3), (0, 5), (10, 8), (6, 1), (4, 2), (7, 7), (6, 3), (7, 3), (9, 8), (6, 4), (4, 6), (9, 10), (0, 0), (4, 2), (4, 1), (3, 0), (9, 4), (4, 8), (6, 5), (3, 10), (5, 3), (0, 1), (2, 2), (7, 9), (9, 8), (3, 8), (10, 6), (2, 7), (1, 1), (9, 2), (6, 10), (8, 6), (5, 7)]\n",
      "[(5, 2), (6, 2), (5, 0), (0, 0), (10, 2), (2, 3), (3, 6), (3, 9), (8, 1), (3, 3), (1, 9), (8, 2), (3, 9), (9, 0), (10, 0), (7, 0), (9, 5), (4, 2), (1, 3), (4, 0), (4, 3), (2, 0), (3, 3), (5, 2), (6, 0), (7, 7), (10, 0), (0, 1), (7, 0), (3, 2), (4, 10), (4, 0), (8, 0), (2, 3), (1, 9), (1, 9), (9, 0), (8, 2), (4, 0), (0, 2), (6, 4), (10, 0), (4, 0), (1, 3), (0, 9), (9, 4), (3, 5), (6, 3), (8, 9), (6, 5), (2, 7), (9, 2), (2, 0), (9, 8), (7, 7), (0, 1), (8, 8), (8, 8), (0, 9), (0, 2), (7, 4), (10, 6), (1, 4), (10, 3), (6, 4), (1, 5), (3, 5), (5, 3), (0, 5), (10, 8), (6, 1), (4, 2), (7, 7), (6, 3), (7, 3), (9, 8), (6, 4), (4, 6), (9, 10), (0, 0), (4, 2), (4, 1), (3, 0), (9, 4), (4, 8), (6, 5), (3, 10), (5, 3), (0, 1), (2, 2), (7, 9), (9, 8), (3, 8), (10, 6), (2, 7), (1, 1), (9, 2), (6, 10), (8, 6), (5, 7)]\n",
      "[(5, 2), (6, 2), (5, 0), (0, 0), (10, 2), (2, 3), (3, 6), (3, 9), (8, 1), (3, 3), (1, 9), (8, 2), (3, 9), (9, 0), (10, 0), (7, 0), (9, 5), (4, 2), (1, 3), (4, 0), (4, 3), (2, 0), (3, 3), (5, 2), (6, 0), (7, 7), (10, 0), (0, 1), (7, 0), (3, 2), (4, 10), (4, 0), (8, 0), (2, 3), (1, 9), (1, 9), (9, 0), (8, 2), (4, 0), (0, 2), (6, 4), (10, 0), (4, 0), (1, 3), (0, 9), (9, 4), (3, 5), (6, 3), (8, 9), (6, 5), (2, 7), (9, 2), (2, 0), (9, 8), (7, 7), (0, 1), (8, 8), (8, 8), (0, 9), (0, 2), (7, 4), (10, 6), (1, 4), (10, 3), (6, 4), (1, 5), (3, 5), (5, 3), (0, 5), (10, 8), (6, 1), (4, 2), (7, 7), (6, 3), (7, 3), (9, 8), (6, 4), (4, 6), (9, 10), (0, 0), (4, 2), (4, 1), (3, 0), (9, 4), (4, 8), (6, 5), (3, 10), (5, 3), (0, 1), (2, 2), (7, 9), (9, 8), (3, 8), (10, 6), (2, 7), (1, 1), (9, 2), (6, 10), (8, 6), (5, 7)]\n",
      "[(5, 2), (6, 2), (5, 0), (0, 0), (10, 2), (2, 3), (3, 6), (3, 9), (8, 1), (3, 3), (1, 9), (8, 2), (3, 9), (9, 0), (10, 0), (7, 0), (9, 5), (4, 2), (1, 3), (4, 0), (4, 3), (2, 0), (3, 3), (5, 2), (6, 0), (7, 7), (10, 0), (0, 1), (7, 0), (3, 2), (4, 10), (4, 0), (8, 0), (2, 3), (1, 9), (1, 9), (9, 0), (8, 2), (4, 0), (0, 2), (6, 4), (10, 0), (4, 0), (1, 3), (0, 9), (9, 4), (3, 5), (6, 3), (8, 9), (6, 5), (2, 7), (9, 2), (2, 0), (9, 8), (7, 7), (0, 1), (8, 8), (8, 8), (0, 9), (0, 2), (7, 4), (10, 6), (1, 4), (10, 3), (6, 4), (1, 5), (3, 5), (5, 3), (0, 5), (10, 8), (6, 1), (4, 2), (7, 7), (6, 3), (7, 3), (9, 8), (6, 4), (4, 6), (9, 10), (0, 0), (4, 2), (4, 1), (3, 0), (9, 4), (4, 8), (6, 5), (3, 10), (5, 3), (0, 1), (2, 2), (7, 9), (9, 8), (3, 8), (10, 6), (2, 7), (1, 1), (9, 2), (6, 10), (8, 6), (5, 7)]\n",
      "[(5, 2), (6, 2), (5, 0), (0, 0), (10, 2), (2, 3), (3, 6), (3, 9), (8, 1), (3, 3), (1, 9), (8, 2), (3, 9), (9, 0), (10, 0), (7, 0), (9, 5), (4, 2), (1, 3), (4, 0), (4, 3), (2, 0), (3, 3), (5, 2), (6, 0), (7, 7), (10, 0), (0, 1), (7, 0), (3, 2), (4, 10), (4, 0), (8, 0), (2, 3), (1, 9), (1, 9), (9, 0), (8, 2), (4, 0), (0, 2), (6, 4), (10, 0), (4, 0), (1, 3), (0, 9), (9, 4), (3, 5), (6, 3), (8, 9), (6, 5), (2, 7), (9, 2), (2, 0), (9, 8), (7, 7), (0, 1), (8, 8), (8, 8), (0, 9), (0, 2), (7, 4), (10, 6), (1, 4), (10, 3), (6, 4), (1, 5), (3, 5), (5, 3), (0, 5), (10, 8), (6, 1), (4, 2), (7, 7), (6, 3), (7, 3), (9, 8), (6, 4), (4, 6), (9, 10), (0, 0), (4, 2), (4, 1), (3, 0), (9, 4), (4, 8), (6, 5), (3, 10), (5, 3), (0, 1), (2, 2), (7, 9), (9, 8), (3, 8), (10, 6), (2, 7), (1, 1), (9, 2), (6, 10), (8, 6), (5, 7)]\n",
      "[(5, 2), (6, 2), (5, 0), (0, 0), (10, 2), (2, 3), (3, 6), (3, 9), (8, 1), (3, 3), (1, 9), (8, 2), (3, 9), (9, 0), (10, 0), (7, 0), (9, 5), (4, 2), (1, 3), (4, 0), (4, 3), (2, 0), (3, 3), (5, 2), (6, 0), (7, 7), (10, 0), (0, 1), (7, 0), (3, 2), (4, 10), (4, 0), (8, 0), (2, 3), (1, 9), (1, 9), (9, 0), (8, 2), (4, 0), (0, 2), (6, 4), (10, 0), (4, 0), (1, 3), (0, 9), (9, 4), (3, 5), (6, 3), (8, 9), (6, 5), (2, 7), (9, 2), (2, 0), (9, 8), (7, 7), (0, 1), (8, 8), (8, 8), (0, 9), (0, 2), (7, 4), (10, 6), (1, 4), (10, 3), (6, 4), (1, 5), (3, 5), (5, 3), (0, 5), (10, 8), (6, 1), (4, 2), (7, 7), (6, 3), (7, 3), (9, 8), (6, 4), (4, 6), (9, 10), (0, 0), (4, 2), (4, 1), (3, 0), (9, 4), (4, 8), (6, 5), (3, 10), (5, 3), (0, 1), (2, 2), (7, 9), (9, 8), (3, 8), (10, 6), (2, 7), (1, 1), (9, 2), (6, 10), (8, 6), (5, 7)]\n",
      "[(5, 2), (6, 2), (5, 0), (0, 0), (10, 2), (2, 3), (3, 6), (3, 9), (8, 1), (3, 3), (1, 9), (8, 2), (3, 9), (9, 0), (10, 0), (7, 0), (9, 5), (4, 2), (1, 3), (4, 0), (4, 3), (2, 0), (3, 3), (5, 2), (6, 0), (7, 7), (10, 0), (0, 1), (7, 0), (3, 2), (4, 10), (4, 0), (8, 0), (2, 3), (1, 9), (1, 9), (9, 0), (8, 2), (4, 0), (0, 2), (6, 4), (10, 0), (4, 0), (1, 3), (0, 9), (9, 4), (3, 5), (6, 3), (8, 9), (6, 5), (2, 7), (9, 2), (2, 0), (9, 8), (7, 7), (0, 1), (8, 8), (8, 8), (0, 9), (0, 2), (7, 4), (10, 6), (1, 4), (10, 3), (6, 4), (1, 5), (3, 5), (5, 3), (0, 5), (10, 8), (6, 1), (4, 2), (7, 7), (6, 3), (7, 3), (9, 8), (6, 4), (4, 6), (9, 10), (0, 0), (4, 2), (4, 1), (3, 0), (9, 4), (4, 8), (6, 5), (3, 10), (5, 3), (0, 1), (2, 2), (7, 9), (9, 8), (3, 8), (10, 6), (2, 7), (1, 1), (9, 2), (6, 10), (8, 6), (5, 7)]\n",
      "[(5, 2), (6, 2), (5, 0), (0, 0), (10, 2), (2, 3), (3, 6), (3, 9), (8, 1), (3, 3), (1, 9), (8, 2), (3, 9), (9, 0), (10, 0), (7, 0), (9, 5), (4, 2), (1, 3), (4, 0), (4, 3), (2, 0), (3, 3), (5, 2), (6, 0), (7, 7), (10, 0), (0, 1), (7, 0), (3, 2), (4, 10), (4, 0), (8, 0), (2, 3), (1, 9), (1, 9), (9, 0), (8, 2), (4, 0), (0, 2), (6, 4), (10, 0), (4, 0), (1, 3), (0, 9), (9, 4), (3, 5), (6, 3), (8, 9), (6, 5), (2, 7), (9, 2), (2, 0), (9, 8), (7, 7), (0, 1), (8, 8), (8, 8), (0, 9), (0, 2), (7, 4), (10, 6), (1, 4), (10, 3), (6, 4), (1, 5), (3, 5), (5, 3), (0, 5), (10, 8), (6, 1), (4, 2), (7, 7), (6, 3), (7, 3), (9, 8), (6, 4), (4, 6), (9, 10), (0, 0), (4, 2), (4, 1), (3, 0), (9, 4), (4, 8), (6, 5), (3, 10), (5, 3), (0, 1), (2, 2), (7, 9), (9, 8), (3, 8), (10, 6), (2, 7), (1, 1), (9, 2), (6, 10), (8, 6), (5, 7)]\n",
      "[(5, 2), (6, 2), (5, 0), (0, 0), (10, 2), (2, 3), (3, 6), (3, 9), (8, 1), (3, 3), (1, 9), (8, 2), (3, 9), (9, 0), (10, 0), (7, 0), (9, 5), (4, 2), (1, 3), (4, 0), (4, 3), (2, 0), (3, 3), (5, 2), (6, 0), (7, 7), (10, 0), (0, 1), (7, 0), (3, 2), (4, 10), (4, 0), (8, 0), (2, 3), (1, 9), (1, 9), (9, 0), (8, 2), (4, 0), (0, 2), (6, 4), (10, 0), (4, 0), (1, 3), (0, 9), (9, 4), (3, 5), (6, 3), (8, 9), (6, 5), (2, 7), (9, 2), (2, 0), (9, 8), (7, 7), (0, 1), (8, 8), (8, 8), (0, 9), (0, 2), (7, 4), (10, 6), (1, 4), (10, 3), (6, 4), (1, 5), (3, 5), (5, 3), (0, 5), (10, 8), (6, 1), (4, 2), (7, 7), (6, 3), (7, 3), (9, 8), (6, 4), (4, 6), (9, 10), (0, 0), (4, 2), (4, 1), (3, 0), (9, 4), (4, 8), (6, 5), (3, 10), (5, 3), (0, 1), (2, 2), (7, 9), (9, 8), (3, 8), (10, 6), (2, 7), (1, 1), (9, 2), (6, 10), (8, 6), (5, 7)]\n",
      "[(5, 2), (6, 2), (5, 0), (0, 0), (10, 2), (2, 3), (3, 6), (3, 9), (8, 1), (3, 3), (1, 9), (8, 2), (3, 9), (9, 0), (10, 0), (7, 0), (9, 5), (4, 2), (1, 3), (4, 0), (4, 3), (2, 0), (3, 3), (5, 2), (6, 0), (7, 7), (10, 0), (0, 1), (7, 0), (3, 2), (4, 10), (4, 0), (8, 0), (2, 3), (1, 9), (1, 9), (9, 0), (8, 2), (4, 0), (0, 2), (6, 4), (10, 0), (4, 0), (1, 3), (0, 9), (9, 4), (3, 5), (6, 3), (8, 9), (6, 5), (2, 7), (9, 2), (2, 0), (9, 8), (7, 7), (0, 1), (8, 8), (8, 8), (0, 9), (0, 2), (7, 4), (10, 6), (1, 4), (10, 3), (6, 4), (1, 5), (3, 5), (5, 3), (0, 5), (10, 8), (6, 1), (4, 2), (7, 7), (6, 3), (7, 3), (9, 8), (6, 4), (4, 6), (9, 10), (0, 0), (4, 2), (4, 1), (3, 0), (9, 4), (4, 8), (6, 5), (3, 10), (5, 3), (0, 1), (2, 2), (7, 9), (9, 8), (3, 8), (10, 6), (2, 7), (1, 1), (9, 2), (6, 10), (8, 6), (5, 7)]\n",
      "[(5, 2), (6, 2), (5, 0), (0, 0), (10, 2), (2, 3), (3, 6), (3, 9), (8, 1), (3, 3), (1, 9), (8, 2), (3, 9), (9, 0), (10, 0), (7, 0), (9, 5), (4, 2), (1, 3), (4, 0), (4, 3), (2, 0), (3, 3), (5, 2), (6, 0), (7, 7), (10, 0), (0, 1), (7, 0), (3, 2), (4, 10), (4, 0), (8, 0), (2, 3), (1, 9), (1, 9), (9, 0), (8, 2), (4, 0), (0, 2), (6, 4), (10, 0), (4, 0), (1, 3), (0, 9), (9, 4), (3, 5), (6, 3), (8, 9), (6, 5), (2, 7), (9, 2), (2, 0), (9, 8), (7, 7), (0, 1), (8, 8), (8, 8), (0, 9), (0, 2), (7, 4), (10, 6), (1, 4), (10, 3), (6, 4), (1, 5), (3, 5), (5, 3), (0, 5), (10, 8), (6, 1), (4, 2), (7, 7), (6, 3), (7, 3), (9, 8), (6, 4), (4, 6), (9, 10), (0, 0), (4, 2), (4, 1), (3, 0), (9, 4), (4, 8), (6, 5), (3, 10), (5, 3), (0, 1), (2, 2), (7, 9), (9, 8), (3, 8), (10, 6), (2, 7), (1, 1), (9, 2), (6, 10), (8, 6), (5, 7)]\n",
      "[(5, 2), (6, 2), (5, 0), (0, 0), (10, 2), (2, 3), (3, 6), (3, 9), (8, 1), (3, 3), (1, 9), (8, 2), (3, 9), (9, 0), (10, 0), (7, 0), (9, 5), (4, 2), (1, 3), (4, 0), (4, 3), (2, 0), (3, 3), (5, 2), (6, 0), (7, 7), (10, 0), (0, 1), (7, 0), (3, 2), (4, 10), (4, 0), (8, 0), (2, 3), (1, 9), (1, 9), (9, 0), (8, 2), (4, 0), (0, 2), (6, 4), (10, 0), (4, 0), (1, 3), (0, 9), (9, 4), (3, 5), (6, 3), (8, 9), (6, 5), (2, 7), (9, 2), (2, 0), (9, 8), (7, 7), (0, 1), (8, 8), (8, 8), (0, 9), (0, 2), (7, 4), (10, 6), (1, 4), (10, 3), (6, 4), (1, 5), (3, 5), (5, 3), (0, 5), (10, 8), (6, 1), (4, 2), (7, 7), (6, 3), (7, 3), (9, 8), (6, 4), (4, 6), (9, 10), (0, 0), (4, 2), (4, 1), (3, 0), (9, 4), (4, 8), (6, 5), (3, 10), (5, 3), (0, 1), (2, 2), (7, 9), (9, 8), (3, 8), (10, 6), (2, 7), (1, 1), (9, 2), (6, 10), (8, 6), (5, 7)]\n",
      "[(5, 2), (6, 2), (5, 0), (0, 0), (10, 2), (2, 3), (3, 6), (3, 9), (8, 1), (3, 3), (1, 9), (8, 2), (3, 9), (9, 0), (10, 0), (7, 0), (9, 5), (4, 2), (1, 3), (4, 0), (4, 3), (2, 0), (3, 3), (5, 2), (6, 0), (7, 7), (10, 0), (0, 1), (7, 0), (3, 2), (4, 10), (4, 0), (8, 0), (2, 3), (1, 9), (1, 9), (9, 0), (8, 2), (4, 0), (0, 2), (6, 4), (10, 0), (4, 0), (1, 3), (0, 9), (9, 4), (3, 5), (6, 3), (8, 9), (6, 5), (2, 7), (9, 2), (2, 0), (9, 8), (7, 7), (0, 1), (8, 8), (8, 8), (0, 9), (0, 2), (7, 4), (10, 6), (1, 4), (10, 3), (6, 4), (1, 5), (3, 5), (5, 3), (0, 5), (10, 8), (6, 1), (4, 2), (7, 7), (6, 3), (7, 3), (9, 8), (6, 4), (4, 6), (9, 10), (0, 0), (4, 2), (4, 1), (3, 0), (9, 4), (4, 8), (6, 5), (3, 10), (5, 3), (0, 1), (2, 2), (7, 9), (9, 8), (3, 8), (10, 6), (2, 7), (1, 1), (9, 2), (6, 10), (8, 6), (5, 7)]\n",
      "[(5, 2), (6, 2), (5, 0), (0, 0), (10, 2), (2, 3), (3, 6), (3, 9), (8, 1), (3, 3), (1, 9), (8, 2), (3, 9), (9, 0), (10, 0), (7, 0), (9, 5), (4, 2), (1, 3), (4, 0), (4, 3), (2, 0), (3, 3), (5, 2), (6, 0), (7, 7), (10, 0), (0, 1), (7, 0), (3, 2), (4, 10), (4, 0), (8, 0), (2, 3), (1, 9), (1, 9), (9, 0), (8, 2), (4, 0), (0, 2), (6, 4), (10, 0), (4, 0), (1, 3), (0, 9), (9, 4), (3, 5), (6, 3), (8, 9), (6, 5), (2, 7), (9, 2), (2, 0), (9, 8), (7, 7), (0, 1), (8, 8), (8, 8), (0, 9), (0, 2), (7, 4), (10, 6), (1, 4), (10, 3), (6, 4), (1, 5), (3, 5), (5, 3), (0, 5), (10, 8), (6, 1), (4, 2), (7, 7), (6, 3), (7, 3), (9, 8), (6, 4), (4, 6), (9, 10), (0, 0), (4, 2), (4, 1), (3, 0), (9, 4), (4, 8), (6, 5), (3, 10), (5, 3), (0, 1), (2, 2), (7, 9), (9, 8), (3, 8), (10, 6), (2, 7), (1, 1), (9, 2), (6, 10), (8, 6), (5, 7)]\n",
      "[(5, 2), (6, 2), (5, 0), (0, 0), (10, 2), (2, 3), (3, 6), (3, 9), (8, 1), (3, 3), (1, 9), (8, 2), (3, 9), (9, 0), (10, 0), (7, 0), (9, 5), (4, 2), (1, 3), (4, 0), (4, 3), (2, 0), (3, 3), (5, 2), (6, 0), (7, 7), (10, 0), (0, 1), (7, 0), (3, 2), (4, 10), (4, 0), (8, 0), (2, 3), (1, 9), (1, 9), (9, 0), (8, 2), (4, 0), (0, 2), (6, 4), (10, 0), (4, 0), (1, 3), (0, 9), (9, 4), (3, 5), (6, 3), (8, 9), (6, 5), (2, 7), (9, 2), (2, 0), (9, 8), (7, 7), (0, 1), (8, 8), (8, 8), (0, 9), (0, 2), (7, 4), (10, 6), (1, 4), (10, 3), (6, 4), (1, 5), (3, 5), (5, 3), (0, 5), (10, 8), (6, 1), (4, 2), (7, 7), (6, 3), (7, 3), (9, 8), (6, 4), (4, 6), (9, 10), (0, 0), (4, 2), (4, 1), (3, 0), (9, 4), (4, 8), (6, 5), (3, 10), (5, 3), (0, 1), (2, 2), (7, 9), (9, 8), (3, 8), (10, 6), (2, 7), (1, 1), (9, 2), (6, 10), (8, 6), (5, 7)]\n",
      "[(5, 2), (6, 2), (5, 0), (0, 0), (10, 2), (2, 3), (3, 6), (3, 9), (8, 1), (3, 3), (1, 9), (8, 2), (3, 9), (9, 0), (10, 0), (7, 0), (9, 5), (4, 2), (1, 3), (4, 0), (4, 3), (2, 0), (3, 3), (5, 2), (6, 0), (7, 7), (10, 0), (0, 1), (7, 0), (3, 2), (4, 10), (4, 0), (8, 0), (2, 3), (1, 9), (1, 9), (9, 0), (8, 2), (4, 0), (0, 2), (6, 4), (10, 0), (4, 0), (1, 3), (0, 9), (9, 4), (3, 5), (6, 3), (8, 9), (6, 5), (2, 7), (9, 2), (2, 0), (9, 8), (7, 7), (0, 1), (8, 8), (8, 8), (0, 9), (0, 2), (7, 4), (10, 6), (1, 4), (10, 3), (6, 4), (1, 5), (3, 5), (5, 3), (0, 5), (10, 8), (6, 1), (4, 2), (7, 7), (6, 3), (7, 3), (9, 8), (6, 4), (4, 6), (9, 10), (0, 0), (4, 2), (4, 1), (3, 0), (9, 4), (4, 8), (6, 5), (3, 10), (5, 3), (0, 1), (2, 2), (7, 9), (9, 8), (3, 8), (10, 6), (2, 7), (1, 1), (9, 2), (6, 10), (8, 6), (5, 7)]\n",
      "[(5, 2), (6, 2), (5, 0), (0, 0), (10, 2), (2, 3), (3, 6), (3, 9), (8, 1), (3, 3), (1, 9), (8, 2), (3, 9), (9, 0), (10, 0), (7, 0), (9, 5), (4, 2), (1, 3), (4, 0), (4, 3), (2, 0), (3, 3), (5, 2), (6, 0), (7, 7), (10, 0), (0, 1), (7, 0), (3, 2), (4, 10), (4, 0), (8, 0), (2, 3), (1, 9), (1, 9), (9, 0), (8, 2), (4, 0), (0, 2), (6, 4), (10, 0), (4, 0), (1, 3), (0, 9), (9, 4), (3, 5), (6, 3), (8, 9), (6, 5), (2, 7), (9, 2), (2, 0), (9, 8), (7, 7), (0, 1), (8, 8), (8, 8), (0, 9), (0, 2), (7, 4), (10, 6), (1, 4), (10, 3), (6, 4), (1, 5), (3, 5), (5, 3), (0, 5), (10, 8), (6, 1), (4, 2), (7, 7), (6, 3), (7, 3), (9, 8), (6, 4), (4, 6), (9, 10), (0, 0), (4, 2), (4, 1), (3, 0), (9, 4), (4, 8), (6, 5), (3, 10), (5, 3), (0, 1), (2, 2), (7, 9), (9, 8), (3, 8), (10, 6), (2, 7), (1, 1), (9, 2), (6, 10), (8, 6), (5, 7)]\n",
      "[(5, 2), (6, 2), (5, 0), (0, 0), (10, 2), (2, 3), (3, 6), (3, 9), (8, 1), (3, 3), (1, 9), (8, 2), (3, 9), (9, 0), (10, 0), (7, 0), (9, 5), (4, 2), (1, 3), (4, 0), (4, 3), (2, 0), (3, 3), (5, 2), (6, 0), (7, 7), (10, 0), (0, 1), (7, 0), (3, 2), (4, 10), (4, 0), (8, 0), (2, 3), (1, 9), (1, 9), (9, 0), (8, 2), (4, 0), (0, 2), (6, 4), (10, 0), (4, 0), (1, 3), (0, 9), (9, 4), (3, 5), (6, 3), (8, 9), (6, 5), (2, 7), (9, 2), (2, 0), (9, 8), (7, 7), (0, 1), (8, 8), (8, 8), (0, 9), (0, 2), (7, 4), (10, 6), (1, 4), (10, 3), (6, 4), (1, 5), (3, 5), (5, 3), (0, 5), (10, 8), (6, 1), (4, 2), (7, 7), (6, 3), (7, 3), (9, 8), (6, 4), (4, 6), (9, 10), (0, 0), (4, 2), (4, 1), (3, 0), (9, 4), (4, 8), (6, 5), (3, 10), (5, 3), (0, 1), (2, 2), (7, 9), (9, 8), (3, 8), (10, 6), (2, 7), (1, 1), (9, 2), (6, 10), (8, 6), (5, 7)]\n",
      "[(5, 2), (6, 2), (5, 0), (0, 0), (10, 2), (2, 3), (3, 6), (3, 9), (8, 1), (3, 3), (1, 9), (8, 2), (3, 9), (9, 0), (10, 0), (7, 0), (9, 5), (4, 2), (1, 3), (4, 0), (4, 3), (2, 0), (3, 3), (5, 2), (6, 0), (7, 7), (10, 0), (0, 1), (7, 0), (3, 2), (4, 10), (4, 0), (8, 0), (2, 3), (1, 9), (1, 9), (9, 0), (8, 2), (4, 0), (0, 2), (6, 4), (10, 0), (4, 0), (1, 3), (0, 9), (9, 4), (3, 5), (6, 3), (8, 9), (6, 5), (2, 7), (9, 2), (2, 0), (9, 8), (7, 7), (0, 1), (8, 8), (8, 8), (0, 9), (0, 2), (7, 4), (10, 6), (1, 4), (10, 3), (6, 4), (1, 5), (3, 5), (5, 3), (0, 5), (10, 8), (6, 1), (4, 2), (7, 7), (6, 3), (7, 3), (9, 8), (6, 4), (4, 6), (9, 10), (0, 0), (4, 2), (4, 1), (3, 0), (9, 4), (4, 8), (6, 5), (3, 10), (5, 3), (0, 1), (2, 2), (7, 9), (9, 8), (3, 8), (10, 6), (2, 7), (1, 1), (9, 2), (6, 10), (8, 6), (5, 7)]\n",
      "[(5, 2), (6, 2), (5, 0), (0, 0), (10, 2), (2, 3), (3, 6), (3, 9), (8, 1), (3, 3), (1, 9), (8, 2), (3, 9), (9, 0), (10, 0), (7, 0), (9, 5), (4, 2), (1, 3), (4, 0), (4, 3), (2, 0), (3, 3), (5, 2), (6, 0), (7, 7), (10, 0), (0, 1), (7, 0), (3, 2), (4, 10), (4, 0), (8, 0), (2, 3), (1, 9), (1, 9), (9, 0), (8, 2), (4, 0), (0, 2), (6, 4), (10, 0), (4, 0), (1, 3), (0, 9), (9, 4), (3, 5), (6, 3), (8, 9), (6, 5), (2, 7), (9, 2), (2, 0), (9, 8), (7, 7), (0, 1), (8, 8), (8, 8), (0, 9), (0, 2), (7, 4), (10, 6), (1, 4), (10, 3), (6, 4), (1, 5), (3, 5), (5, 3), (0, 5), (10, 8), (6, 1), (4, 2), (7, 7), (6, 3), (7, 3), (9, 8), (6, 4), (4, 6), (9, 10), (0, 0), (4, 2), (4, 1), (3, 0), (9, 4), (4, 8), (6, 5), (3, 10), (5, 3), (0, 1), (2, 2), (7, 9), (9, 8), (3, 8), (10, 6), (2, 7), (1, 1), (9, 2), (6, 10), (8, 6), (5, 7)]\n",
      "[(5, 2), (6, 2), (5, 0), (0, 0), (10, 2), (2, 3), (3, 6), (3, 9), (8, 1), (3, 3), (1, 9), (8, 2), (3, 9), (9, 0), (10, 0), (7, 0), (9, 5), (4, 2), (1, 3), (4, 0), (4, 3), (2, 0), (3, 3), (5, 2), (6, 0), (7, 7), (10, 0), (0, 1), (7, 0), (3, 2), (4, 10), (4, 0), (8, 0), (2, 3), (1, 9), (1, 9), (9, 0), (8, 2), (4, 0), (0, 2), (6, 4), (10, 0), (4, 0), (1, 3), (0, 9), (9, 4), (3, 5), (6, 3), (8, 9), (6, 5), (2, 7), (9, 2), (2, 0), (9, 8), (7, 7), (0, 1), (8, 8), (8, 8), (0, 9), (0, 2), (7, 4), (10, 6), (1, 4), (10, 3), (6, 4), (1, 5), (3, 5), (5, 3), (0, 5), (10, 8), (6, 1), (4, 2), (7, 7), (6, 3), (7, 3), (9, 8), (6, 4), (4, 6), (9, 10), (0, 0), (4, 2), (4, 1), (3, 0), (9, 4), (4, 8), (6, 5), (3, 10), (5, 3), (0, 1), (2, 2), (7, 9), (9, 8), (3, 8), (10, 6), (2, 7), (1, 1), (9, 2), (6, 10), (8, 6), (5, 7)]\n",
      "[(5, 2), (6, 2), (5, 0), (0, 0), (10, 2), (2, 3), (3, 6), (3, 9), (8, 1), (3, 3), (1, 9), (8, 2), (3, 9), (9, 0), (10, 0), (7, 0), (9, 5), (4, 2), (1, 3), (4, 0), (4, 3), (2, 0), (3, 3), (5, 2), (6, 0), (7, 7), (10, 0), (0, 1), (7, 0), (3, 2), (4, 10), (4, 0), (8, 0), (2, 3), (1, 9), (1, 9), (9, 0), (8, 2), (4, 0), (0, 2), (6, 4), (10, 0), (4, 0), (1, 3), (0, 9), (9, 4), (3, 5), (6, 3), (8, 9), (6, 5), (2, 7), (9, 2), (2, 0), (9, 8), (7, 7), (0, 1), (8, 8), (8, 8), (0, 9), (0, 2), (7, 4), (10, 6), (1, 4), (10, 3), (6, 4), (1, 5), (3, 5), (5, 3), (0, 5), (10, 8), (6, 1), (4, 2), (7, 7), (6, 3), (7, 3), (9, 8), (6, 4), (4, 6), (9, 10), (0, 0), (4, 2), (4, 1), (3, 0), (9, 4), (4, 8), (6, 5), (3, 10), (5, 3), (0, 1), (2, 2), (7, 9), (9, 8), (3, 8), (10, 6), (2, 7), (1, 1), (9, 2), (6, 10), (8, 6), (5, 7)]\n",
      "[(5, 2), (6, 2), (5, 0), (0, 0), (10, 2), (2, 3), (3, 6), (3, 9), (8, 1), (3, 3), (1, 9), (8, 2), (3, 9), (9, 0), (10, 0), (7, 0), (9, 5), (4, 2), (1, 3), (4, 0), (4, 3), (2, 0), (3, 3), (5, 2), (6, 0), (7, 7), (10, 0), (0, 1), (7, 0), (3, 2), (4, 10), (4, 0), (8, 0), (2, 3), (1, 9), (1, 9), (9, 0), (8, 2), (4, 0), (0, 2), (6, 4), (10, 0), (4, 0), (1, 3), (0, 9), (9, 4), (3, 5), (6, 3), (8, 9), (6, 5), (2, 7), (9, 2), (2, 0), (9, 8), (7, 7), (0, 1), (8, 8), (8, 8), (0, 9), (0, 2), (7, 4), (10, 6), (1, 4), (10, 3), (6, 4), (1, 5), (3, 5), (5, 3), (0, 5), (10, 8), (6, 1), (4, 2), (7, 7), (6, 3), (7, 3), (9, 8), (6, 4), (4, 6), (9, 10), (0, 0), (4, 2), (4, 1), (3, 0), (9, 4), (4, 8), (6, 5), (3, 10), (5, 3), (0, 1), (2, 2), (7, 9), (9, 8), (3, 8), (10, 6), (2, 7), (1, 1), (9, 2), (6, 10), (8, 6), (5, 7)]\n",
      "[(5, 2), (6, 2), (5, 0), (0, 0), (10, 2), (2, 3), (3, 6), (3, 9), (8, 1), (3, 3), (1, 9), (8, 2), (3, 9), (9, 0), (10, 0), (7, 0), (9, 5), (4, 2), (1, 3), (4, 0), (4, 3), (2, 0), (3, 3), (5, 2), (6, 0), (7, 7), (10, 0), (0, 1), (7, 0), (3, 2), (4, 10), (4, 0), (8, 0), (2, 3), (1, 9), (1, 9), (9, 0), (8, 2), (4, 0), (0, 2), (6, 4), (10, 0), (4, 0), (1, 3), (0, 9), (9, 4), (3, 5), (6, 3), (8, 9), (6, 5), (2, 7), (9, 2), (2, 0), (9, 8), (7, 7), (0, 1), (8, 8), (8, 8), (0, 9), (0, 2), (7, 4), (10, 6), (1, 4), (10, 3), (6, 4), (1, 5), (3, 5), (5, 3), (0, 5), (10, 8), (6, 1), (4, 2), (7, 7), (6, 3), (7, 3), (9, 8), (6, 4), (4, 6), (9, 10), (0, 0), (4, 2), (4, 1), (3, 0), (9, 4), (4, 8), (6, 5), (3, 10), (5, 3), (0, 1), (2, 2), (7, 9), (9, 8), (3, 8), (10, 6), (2, 7), (1, 1), (9, 2), (6, 10), (8, 6), (5, 7)]\n",
      "[(5, 2), (6, 2), (5, 0), (0, 0), (10, 2), (2, 3), (3, 6), (3, 9), (8, 1), (3, 3), (1, 9), (8, 2), (3, 9), (9, 0), (10, 0), (7, 0), (9, 5), (4, 2), (1, 3), (4, 0), (4, 3), (2, 0), (3, 3), (5, 2), (6, 0), (7, 7), (10, 0), (0, 1), (7, 0), (3, 2), (4, 10), (4, 0), (8, 0), (2, 3), (1, 9), (1, 9), (9, 0), (8, 2), (4, 0), (0, 2), (6, 4), (10, 0), (4, 0), (1, 3), (0, 9), (9, 4), (3, 5), (6, 3), (8, 9), (6, 5), (2, 7), (9, 2), (2, 0), (9, 8), (7, 7), (0, 1), (8, 8), (8, 8), (0, 9), (0, 2), (7, 4), (10, 6), (1, 4), (10, 3), (6, 4), (1, 5), (3, 5), (5, 3), (0, 5), (10, 8), (6, 1), (4, 2), (7, 7), (6, 3), (7, 3), (9, 8), (6, 4), (4, 6), (9, 10), (0, 0), (4, 2), (4, 1), (3, 0), (9, 4), (4, 8), (6, 5), (3, 10), (5, 3), (0, 1), (2, 2), (7, 9), (9, 8), (3, 8), (10, 6), (2, 7), (1, 1), (9, 2), (6, 10), (8, 6), (5, 7)]\n",
      "[(5, 2), (6, 2), (5, 0), (0, 0), (10, 2), (2, 3), (3, 6), (3, 9), (8, 1), (3, 3), (1, 9), (8, 2), (3, 9), (9, 0), (10, 0), (7, 0), (9, 5), (4, 2), (1, 3), (4, 0), (4, 3), (2, 0), (3, 3), (5, 2), (6, 0), (7, 7), (10, 0), (0, 1), (7, 0), (3, 2), (4, 10), (4, 0), (8, 0), (2, 3), (1, 9), (1, 9), (9, 0), (8, 2), (4, 0), (0, 2), (6, 4), (10, 0), (4, 0), (1, 3), (0, 9), (9, 4), (3, 5), (6, 3), (8, 9), (6, 5), (2, 7), (9, 2), (2, 0), (9, 8), (7, 7), (0, 1), (8, 8), (8, 8), (0, 9), (0, 2), (7, 4), (10, 6), (1, 4), (10, 3), (6, 4), (1, 5), (3, 5), (5, 3), (0, 5), (10, 8), (6, 1), (4, 2), (7, 7), (6, 3), (7, 3), (9, 8), (6, 4), (4, 6), (9, 10), (0, 0), (4, 2), (4, 1), (3, 0), (9, 4), (4, 8), (6, 5), (3, 10), (5, 3), (0, 1), (2, 2), (7, 9), (9, 8), (3, 8), (10, 6), (2, 7), (1, 1), (9, 2), (6, 10), (8, 6), (5, 7)]\n",
      "[(5, 2), (6, 2), (5, 0), (0, 0), (10, 2), (2, 3), (3, 6), (3, 9), (8, 1), (3, 3), (1, 9), (8, 2), (3, 9), (9, 0), (10, 0), (7, 0), (9, 5), (4, 2), (1, 3), (4, 0), (4, 3), (2, 0), (3, 3), (5, 2), (6, 0), (7, 7), (10, 0), (0, 1), (7, 0), (3, 2), (4, 10), (4, 0), (8, 0), (2, 3), (1, 9), (1, 9), (9, 0), (8, 2), (4, 0), (0, 2), (6, 4), (10, 0), (4, 0), (1, 3), (0, 9), (9, 4), (3, 5), (6, 3), (8, 9), (6, 5), (2, 7), (9, 2), (2, 0), (9, 8), (7, 7), (0, 1), (8, 8), (8, 8), (0, 9), (0, 2), (7, 4), (10, 6), (1, 4), (10, 3), (6, 4), (1, 5), (3, 5), (5, 3), (0, 5), (10, 8), (6, 1), (4, 2), (7, 7), (6, 3), (7, 3), (9, 8), (6, 4), (4, 6), (9, 10), (0, 0), (4, 2), (4, 1), (3, 0), (9, 4), (4, 8), (6, 5), (3, 10), (5, 3), (0, 1), (2, 2), (7, 9), (9, 8), (3, 8), (10, 6), (2, 7), (1, 1), (9, 2), (6, 10), (8, 6), (5, 7)]\n",
      "[(5, 2), (6, 2), (5, 0), (0, 0), (10, 2), (2, 3), (3, 6), (3, 9), (8, 1), (3, 3), (1, 9), (8, 2), (3, 9), (9, 0), (10, 0), (7, 0), (9, 5), (4, 2), (1, 3), (4, 0), (4, 3), (2, 0), (3, 3), (5, 2), (6, 0), (7, 7), (10, 0), (0, 1), (7, 0), (3, 2), (4, 10), (4, 0), (8, 0), (2, 3), (1, 9), (1, 9), (9, 0), (8, 2), (4, 0), (0, 2), (6, 4), (10, 0), (4, 0), (1, 3), (0, 9), (9, 4), (3, 5), (6, 3), (8, 9), (6, 5), (2, 7), (9, 2), (2, 0), (9, 8), (7, 7), (0, 1), (8, 8), (8, 8), (0, 9), (0, 2), (7, 4), (10, 6), (1, 4), (10, 3), (6, 4), (1, 5), (3, 5), (5, 3), (0, 5), (10, 8), (6, 1), (4, 2), (7, 7), (6, 3), (7, 3), (9, 8), (6, 4), (4, 6), (9, 10), (0, 0), (4, 2), (4, 1), (3, 0), (9, 4), (4, 8), (6, 5), (3, 10), (5, 3), (0, 1), (2, 2), (7, 9), (9, 8), (3, 8), (10, 6), (2, 7), (1, 1), (9, 2), (6, 10), (8, 6), (5, 7)]\n",
      "[(5, 2), (6, 2), (5, 0), (0, 0), (10, 2), (2, 3), (3, 6), (3, 9), (8, 1), (3, 3), (1, 9), (8, 2), (3, 9), (9, 0), (10, 0), (7, 0), (9, 5), (4, 2), (1, 3), (4, 0), (4, 3), (2, 0), (3, 3), (5, 2), (6, 0), (7, 7), (10, 0), (0, 1), (7, 0), (3, 2), (4, 10), (4, 0), (8, 0), (2, 3), (1, 9), (1, 9), (9, 0), (8, 2), (4, 0), (0, 2), (6, 4), (10, 0), (4, 0), (1, 3), (0, 9), (9, 4), (3, 5), (6, 3), (8, 9), (6, 5), (2, 7), (9, 2), (2, 0), (9, 8), (7, 7), (0, 1), (8, 8), (8, 8), (0, 9), (0, 2), (7, 4), (10, 6), (1, 4), (10, 3), (6, 4), (1, 5), (3, 5), (5, 3), (0, 5), (10, 8), (6, 1), (4, 2), (7, 7), (6, 3), (7, 3), (9, 8), (6, 4), (4, 6), (9, 10), (0, 0), (4, 2), (4, 1), (3, 0), (9, 4), (4, 8), (6, 5), (3, 10), (5, 3), (0, 1), (2, 2), (7, 9), (9, 8), (3, 8), (10, 6), (2, 7), (1, 1), (9, 2), (6, 10), (8, 6), (5, 7)]\n",
      "[(5, 2), (6, 2), (5, 0), (0, 0), (10, 2), (2, 3), (3, 6), (3, 9), (8, 1), (3, 3), (1, 9), (8, 2), (3, 9), (9, 0), (10, 0), (7, 0), (9, 5), (4, 2), (1, 3), (4, 0), (4, 3), (2, 0), (3, 3), (5, 2), (6, 0), (7, 7), (10, 0), (0, 1), (7, 0), (3, 2), (4, 10), (4, 0), (8, 0), (2, 3), (1, 9), (1, 9), (9, 0), (8, 2), (4, 0), (0, 2), (6, 4), (10, 0), (4, 0), (1, 3), (0, 9), (9, 4), (3, 5), (6, 3), (8, 9), (6, 5), (2, 7), (9, 2), (2, 0), (9, 8), (7, 7), (0, 1), (8, 8), (8, 8), (0, 9), (0, 2), (7, 4), (10, 6), (1, 4), (10, 3), (6, 4), (1, 5), (3, 5), (5, 3), (0, 5), (10, 8), (6, 1), (4, 2), (7, 7), (6, 3), (7, 3), (9, 8), (6, 4), (4, 6), (9, 10), (0, 0), (4, 2), (4, 1), (3, 0), (9, 4), (4, 8), (6, 5), (3, 10), (5, 3), (0, 1), (2, 2), (7, 9), (9, 8), (3, 8), (10, 6), (2, 7), (1, 1), (9, 2), (6, 10), (8, 6), (5, 7)]\n",
      "[(5, 2), (6, 2), (5, 0), (0, 0), (10, 2), (2, 3), (3, 6), (3, 9), (8, 1), (3, 3), (1, 9), (8, 2), (3, 9), (9, 0), (10, 0), (7, 0), (9, 5), (4, 2), (1, 3), (4, 0), (4, 3), (2, 0), (3, 3), (5, 2), (6, 0), (7, 7), (10, 0), (0, 1), (7, 0), (3, 2), (4, 10), (4, 0), (8, 0), (2, 3), (1, 9), (1, 9), (9, 0), (8, 2), (4, 0), (0, 2), (6, 4), (10, 0), (4, 0), (1, 3), (0, 9), (9, 4), (3, 5), (6, 3), (8, 9), (6, 5), (2, 7), (9, 2), (2, 0), (9, 8), (7, 7), (0, 1), (8, 8), (8, 8), (0, 9), (0, 2), (7, 4), (10, 6), (1, 4), (10, 3), (6, 4), (1, 5), (3, 5), (5, 3), (0, 5), (10, 8), (6, 1), (4, 2), (7, 7), (6, 3), (7, 3), (9, 8), (6, 4), (4, 6), (9, 10), (0, 0), (4, 2), (4, 1), (3, 0), (9, 4), (4, 8), (6, 5), (3, 10), (5, 3), (0, 1), (2, 2), (7, 9), (9, 8), (3, 8), (10, 6), (2, 7), (1, 1), (9, 2), (6, 10), (8, 6), (5, 7)]\n",
      "[(5, 2), (6, 2), (5, 0), (0, 0), (10, 2), (2, 3), (3, 6), (3, 9), (8, 1), (3, 3), (1, 9), (8, 2), (3, 9), (9, 0), (10, 0), (7, 0), (9, 5), (4, 2), (1, 3), (4, 0), (4, 3), (2, 0), (3, 3), (5, 2), (6, 0), (7, 7), (10, 0), (0, 1), (7, 0), (3, 2), (4, 10), (4, 0), (8, 0), (2, 3), (1, 9), (1, 9), (9, 0), (8, 2), (4, 0), (0, 2), (6, 4), (10, 0), (4, 0), (1, 3), (0, 9), (9, 4), (3, 5), (6, 3), (8, 9), (6, 5), (2, 7), (9, 2), (2, 0), (9, 8), (7, 7), (0, 1), (8, 8), (8, 8), (0, 9), (0, 2), (7, 4), (10, 6), (1, 4), (10, 3), (6, 4), (1, 5), (3, 5), (5, 3), (0, 5), (10, 8), (6, 1), (4, 2), (7, 7), (6, 3), (7, 3), (9, 8), (6, 4), (4, 6), (9, 10), (0, 0), (4, 2), (4, 1), (3, 0), (9, 4), (4, 8), (6, 5), (3, 10), (5, 3), (0, 1), (2, 2), (7, 9), (9, 8), (3, 8), (10, 6), (2, 7), (1, 1), (9, 2), (6, 10), (8, 6), (5, 7)]\n",
      "[(5, 2), (6, 2), (5, 0), (0, 0), (10, 2), (2, 3), (3, 6), (3, 9), (8, 1), (3, 3), (1, 9), (8, 2), (3, 9), (9, 0), (10, 0), (7, 0), (9, 5), (4, 2), (1, 3), (4, 0), (4, 3), (2, 0), (3, 3), (5, 2), (6, 0), (7, 7), (10, 0), (0, 1), (7, 0), (3, 2), (4, 10), (4, 0), (8, 0), (2, 3), (1, 9), (1, 9), (9, 0), (8, 2), (4, 0), (0, 2), (6, 4), (10, 0), (4, 0), (1, 3), (0, 9), (9, 4), (3, 5), (6, 3), (8, 9), (6, 5), (2, 7), (9, 2), (2, 0), (9, 8), (7, 7), (0, 1), (8, 8), (8, 8), (0, 9), (0, 2), (7, 4), (10, 6), (1, 4), (10, 3), (6, 4), (1, 5), (3, 5), (5, 3), (0, 5), (10, 8), (6, 1), (4, 2), (7, 7), (6, 3), (7, 3), (9, 8), (6, 4), (4, 6), (9, 10), (0, 0), (4, 2), (4, 1), (3, 0), (9, 4), (4, 8), (6, 5), (3, 10), (5, 3), (0, 1), (2, 2), (7, 9), (9, 8), (3, 8), (10, 6), (2, 7), (1, 1), (9, 2), (6, 10), (8, 6), (5, 7)]\n",
      "[(5, 2), (6, 2), (5, 0), (0, 0), (10, 2), (2, 3), (3, 6), (3, 9), (8, 1), (3, 3), (1, 9), (8, 2), (3, 9), (9, 0), (10, 0), (7, 0), (9, 5), (4, 2), (1, 3), (4, 0), (4, 3), (2, 0), (3, 3), (5, 2), (6, 0), (7, 7), (10, 0), (0, 1), (7, 0), (3, 2), (4, 10), (4, 0), (8, 0), (2, 3), (1, 9), (1, 9), (9, 0), (8, 2), (4, 0), (0, 2), (6, 4), (10, 0), (4, 0), (1, 3), (0, 9), (9, 4), (3, 5), (6, 3), (8, 9), (6, 5), (2, 7), (9, 2), (2, 0), (9, 8), (7, 7), (0, 1), (8, 8), (8, 8), (0, 9), (0, 2), (7, 4), (10, 6), (1, 4), (10, 3), (6, 4), (1, 5), (3, 5), (5, 3), (0, 5), (10, 8), (6, 1), (4, 2), (7, 7), (6, 3), (7, 3), (9, 8), (6, 4), (4, 6), (9, 10), (0, 0), (4, 2), (4, 1), (3, 0), (9, 4), (4, 8), (6, 5), (3, 10), (5, 3), (0, 1), (2, 2), (7, 9), (9, 8), (3, 8), (10, 6), (2, 7), (1, 1), (9, 2), (6, 10), (8, 6), (5, 7)]\n",
      "[(5, 2), (6, 2), (5, 0), (0, 0), (10, 2), (2, 3), (3, 6), (3, 9), (8, 1), (3, 3), (1, 9), (8, 2), (3, 9), (9, 0), (10, 0), (7, 0), (9, 5), (4, 2), (1, 3), (4, 0), (4, 3), (2, 0), (3, 3), (5, 2), (6, 0), (7, 7), (10, 0), (0, 1), (7, 0), (3, 2), (4, 10), (4, 0), (8, 0), (2, 3), (1, 9), (1, 9), (9, 0), (8, 2), (4, 0), (0, 2), (6, 4), (10, 0), (4, 0), (1, 3), (0, 9), (9, 4), (3, 5), (6, 3), (8, 9), (6, 5), (2, 7), (9, 2), (2, 0), (9, 8), (7, 7), (0, 1), (8, 8), (8, 8), (0, 9), (0, 2), (7, 4), (10, 6), (1, 4), (10, 3), (6, 4), (1, 5), (3, 5), (5, 3), (0, 5), (10, 8), (6, 1), (4, 2), (7, 7), (6, 3), (7, 3), (9, 8), (6, 4), (4, 6), (9, 10), (0, 0), (4, 2), (4, 1), (3, 0), (9, 4), (4, 8), (6, 5), (3, 10), (5, 3), (0, 1), (2, 2), (7, 9), (9, 8), (3, 8), (10, 6), (2, 7), (1, 1), (9, 2), (6, 10), (8, 6), (5, 7)]\n",
      "[(5, 2), (6, 2), (5, 0), (0, 0), (10, 2), (2, 3), (3, 6), (3, 9), (8, 1), (3, 3), (1, 9), (8, 2), (3, 9), (9, 0), (10, 0), (7, 0), (9, 5), (4, 2), (1, 3), (4, 0), (4, 3), (2, 0), (3, 3), (5, 2), (6, 0), (7, 7), (10, 0), (0, 1), (7, 0), (3, 2), (4, 10), (4, 0), (8, 0), (2, 3), (1, 9), (1, 9), (9, 0), (8, 2), (4, 0), (0, 2), (6, 4), (10, 0), (4, 0), (1, 3), (0, 9), (9, 4), (3, 5), (6, 3), (8, 9), (6, 5), (2, 7), (9, 2), (2, 0), (9, 8), (7, 7), (0, 1), (8, 8), (8, 8), (0, 9), (0, 2), (7, 4), (10, 6), (1, 4), (10, 3), (6, 4), (1, 5), (3, 5), (5, 3), (0, 5), (10, 8), (6, 1), (4, 2), (7, 7), (6, 3), (7, 3), (9, 8), (6, 4), (4, 6), (9, 10), (0, 0), (4, 2), (4, 1), (3, 0), (9, 4), (4, 8), (6, 5), (3, 10), (5, 3), (0, 1), (2, 2), (7, 9), (9, 8), (3, 8), (10, 6), (2, 7), (1, 1), (9, 2), (6, 10), (8, 6), (5, 7)]\n",
      "[(5, 2), (6, 2), (5, 0), (0, 0), (10, 2), (2, 3), (3, 6), (3, 9), (8, 1), (3, 3), (1, 9), (8, 2), (3, 9), (9, 0), (10, 0), (7, 0), (9, 5), (4, 2), (1, 3), (4, 0), (4, 3), (2, 0), (3, 3), (5, 2), (6, 0), (7, 7), (10, 0), (0, 1), (7, 0), (3, 2), (4, 10), (4, 0), (8, 0), (2, 3), (1, 9), (1, 9), (9, 0), (8, 2), (4, 0), (0, 2), (6, 4), (10, 0), (4, 0), (1, 3), (0, 9), (9, 4), (3, 5), (6, 3), (8, 9), (6, 5), (2, 7), (9, 2), (2, 0), (9, 8), (7, 7), (0, 1), (8, 8), (8, 8), (0, 9), (0, 2), (7, 4), (10, 6), (1, 4), (10, 3), (6, 4), (1, 5), (3, 5), (5, 3), (0, 5), (10, 8), (6, 1), (4, 2), (7, 7), (6, 3), (7, 3), (9, 8), (6, 4), (4, 6), (9, 10), (0, 0), (4, 2), (4, 1), (3, 0), (9, 4), (4, 8), (6, 5), (3, 10), (5, 3), (0, 1), (2, 2), (7, 9), (9, 8), (3, 8), (10, 6), (2, 7), (1, 1), (9, 2), (6, 10), (8, 6), (5, 7)]\n",
      "[(5, 2), (6, 2), (5, 0), (0, 0), (10, 2), (2, 3), (3, 6), (3, 9), (8, 1), (3, 3), (1, 9), (8, 2), (3, 9), (9, 0), (10, 0), (7, 0), (9, 5), (4, 2), (1, 3), (4, 0), (4, 3), (2, 0), (3, 3), (5, 2), (6, 0), (7, 7), (10, 0), (0, 1), (7, 0), (3, 2), (4, 10), (4, 0), (8, 0), (2, 3), (1, 9), (1, 9), (9, 0), (8, 2), (4, 0), (0, 2), (6, 4), (10, 0), (4, 0), (1, 3), (0, 9), (9, 4), (3, 5), (6, 3), (8, 9), (6, 5), (2, 7), (9, 2), (2, 0), (9, 8), (7, 7), (0, 1), (8, 8), (8, 8), (0, 9), (0, 2), (7, 4), (10, 6), (1, 4), (10, 3), (6, 4), (1, 5), (3, 5), (5, 3), (0, 5), (10, 8), (6, 1), (4, 2), (7, 7), (6, 3), (7, 3), (9, 8), (6, 4), (4, 6), (9, 10), (0, 0), (4, 2), (4, 1), (3, 0), (9, 4), (4, 8), (6, 5), (3, 10), (5, 3), (0, 1), (2, 2), (7, 9), (9, 8), (3, 8), (10, 6), (2, 7), (1, 1), (9, 2), (6, 10), (8, 6), (5, 7)]\n",
      "[(5, 2), (6, 2), (5, 0), (0, 0), (10, 2), (2, 3), (3, 6), (3, 9), (8, 1), (3, 3), (1, 9), (8, 2), (3, 9), (9, 0), (10, 0), (7, 0), (9, 5), (4, 2), (1, 3), (4, 0), (4, 3), (2, 0), (3, 3), (5, 2), (6, 0), (7, 7), (10, 0), (0, 1), (7, 0), (3, 2), (4, 10), (4, 0), (8, 0), (2, 3), (1, 9), (1, 9), (9, 0), (8, 2), (4, 0), (0, 2), (6, 4), (10, 0), (4, 0), (1, 3), (0, 9), (9, 4), (3, 5), (6, 3), (8, 9), (6, 5), (2, 7), (9, 2), (2, 0), (9, 8), (7, 7), (0, 1), (8, 8), (8, 8), (0, 9), (0, 2), (7, 4), (10, 6), (1, 4), (10, 3), (6, 4), (1, 5), (3, 5), (5, 3), (0, 5), (10, 8), (6, 1), (4, 2), (7, 7), (6, 3), (7, 3), (9, 8), (6, 4), (4, 6), (9, 10), (0, 0), (4, 2), (4, 1), (3, 0), (9, 4), (4, 8), (6, 5), (3, 10), (5, 3), (0, 1), (2, 2), (7, 9), (9, 8), (3, 8), (10, 6), (2, 7), (1, 1), (9, 2), (6, 10), (8, 6), (5, 7)]\n",
      "[(5, 2), (6, 2), (5, 0), (0, 0), (10, 2), (2, 3), (3, 6), (3, 9), (8, 1), (3, 3), (1, 9), (8, 2), (3, 9), (9, 0), (10, 0), (7, 0), (9, 5), (4, 2), (1, 3), (4, 0), (4, 3), (2, 0), (3, 3), (5, 2), (6, 0), (7, 7), (10, 0), (0, 1), (7, 0), (3, 2), (4, 10), (4, 0), (8, 0), (2, 3), (1, 9), (1, 9), (9, 0), (8, 2), (4, 0), (0, 2), (6, 4), (10, 0), (4, 0), (1, 3), (0, 9), (9, 4), (3, 5), (6, 3), (8, 9), (6, 5), (2, 7), (9, 2), (2, 0), (9, 8), (7, 7), (0, 1), (8, 8), (8, 8), (0, 9), (0, 2), (7, 4), (10, 6), (1, 4), (10, 3), (6, 4), (1, 5), (3, 5), (5, 3), (0, 5), (10, 8), (6, 1), (4, 2), (7, 7), (6, 3), (7, 3), (9, 8), (6, 4), (4, 6), (9, 10), (0, 0), (4, 2), (4, 1), (3, 0), (9, 4), (4, 8), (6, 5), (3, 10), (5, 3), (0, 1), (2, 2), (7, 9), (9, 8), (3, 8), (10, 6), (2, 7), (1, 1), (9, 2), (6, 10), (8, 6), (5, 7)]\n",
      "[(5, 2), (6, 2), (5, 0), (0, 0), (10, 2), (2, 3), (3, 6), (3, 9), (8, 1), (3, 3), (1, 9), (8, 2), (3, 9), (9, 0), (10, 0), (7, 0), (9, 5), (4, 2), (1, 3), (4, 0), (4, 3), (2, 0), (3, 3), (5, 2), (6, 0), (7, 7), (10, 0), (0, 1), (7, 0), (3, 2), (4, 10), (4, 0), (8, 0), (2, 3), (1, 9), (1, 9), (9, 0), (8, 2), (4, 0), (0, 2), (6, 4), (10, 0), (4, 0), (1, 3), (0, 9), (9, 4), (3, 5), (6, 3), (8, 9), (6, 5), (2, 7), (9, 2), (2, 0), (9, 8), (7, 7), (0, 1), (8, 8), (8, 8), (0, 9), (0, 2), (7, 4), (10, 6), (1, 4), (10, 3), (6, 4), (1, 5), (3, 5), (5, 3), (0, 5), (10, 8), (6, 1), (4, 2), (7, 7), (6, 3), (7, 3), (9, 8), (6, 4), (4, 6), (9, 10), (0, 0), (4, 2), (4, 1), (3, 0), (9, 4), (4, 8), (6, 5), (3, 10), (5, 3), (0, 1), (2, 2), (7, 9), (9, 8), (3, 8), (10, 6), (2, 7), (1, 1), (9, 2), (6, 10), (8, 6), (5, 7)]\n",
      "[(5, 2), (6, 2), (5, 0), (0, 0), (10, 2), (2, 3), (3, 6), (3, 9), (8, 1), (3, 3), (1, 9), (8, 2), (3, 9), (9, 0), (10, 0), (7, 0), (9, 5), (4, 2), (1, 3), (4, 0), (4, 3), (2, 0), (3, 3), (5, 2), (6, 0), (7, 7), (10, 0), (0, 1), (7, 0), (3, 2), (4, 10), (4, 0), (8, 0), (2, 3), (1, 9), (1, 9), (9, 0), (8, 2), (4, 0), (0, 2), (6, 4), (10, 0), (4, 0), (1, 3), (0, 9), (9, 4), (3, 5), (6, 3), (8, 9), (6, 5), (2, 7), (9, 2), (2, 0), (9, 8), (7, 7), (0, 1), (8, 8), (8, 8), (0, 9), (0, 2), (7, 4), (10, 6), (1, 4), (10, 3), (6, 4), (1, 5), (3, 5), (5, 3), (0, 5), (10, 8), (6, 1), (4, 2), (7, 7), (6, 3), (7, 3), (9, 8), (6, 4), (4, 6), (9, 10), (0, 0), (4, 2), (4, 1), (3, 0), (9, 4), (4, 8), (6, 5), (3, 10), (5, 3), (0, 1), (2, 2), (7, 9), (9, 8), (3, 8), (10, 6), (2, 7), (1, 1), (9, 2), (6, 10), (8, 6), (5, 7)]\n",
      "[(5, 2), (6, 2), (5, 0), (0, 0), (10, 2), (2, 3), (3, 6), (3, 9), (8, 1), (3, 3), (1, 9), (8, 2), (3, 9), (9, 0), (10, 0), (7, 0), (9, 5), (4, 2), (1, 3), (4, 0), (4, 3), (2, 0), (3, 3), (5, 2), (6, 0), (7, 7), (10, 0), (0, 1), (7, 0), (3, 2), (4, 10), (4, 0), (8, 0), (2, 3), (1, 9), (1, 9), (9, 0), (8, 2), (4, 0), (0, 2), (6, 4), (10, 0), (4, 0), (1, 3), (0, 9), (9, 4), (3, 5), (6, 3), (8, 9), (6, 5), (2, 7), (9, 2), (2, 0), (9, 8), (7, 7), (0, 1), (8, 8), (8, 8), (0, 9), (0, 2), (7, 4), (10, 6), (1, 4), (10, 3), (6, 4), (1, 5), (3, 5), (5, 3), (0, 5), (10, 8), (6, 1), (4, 2), (7, 7), (6, 3), (7, 3), (9, 8), (6, 4), (4, 6), (9, 10), (0, 0), (4, 2), (4, 1), (3, 0), (9, 4), (4, 8), (6, 5), (3, 10), (5, 3), (0, 1), (2, 2), (7, 9), (9, 8), (3, 8), (10, 6), (2, 7), (1, 1), (9, 2), (6, 10), (8, 6), (5, 7)]\n",
      "[(5, 2), (6, 2), (5, 0), (0, 0), (10, 2), (2, 3), (3, 6), (3, 9), (8, 1), (3, 3), (1, 9), (8, 2), (3, 9), (9, 0), (10, 0), (7, 0), (9, 5), (4, 2), (1, 3), (4, 0), (4, 3), (2, 0), (3, 3), (5, 2), (6, 0), (7, 7), (10, 0), (0, 1), (7, 0), (3, 2), (4, 10), (4, 0), (8, 0), (2, 3), (1, 9), (1, 9), (9, 0), (8, 2), (4, 0), (0, 2), (6, 4), (10, 0), (4, 0), (1, 3), (0, 9), (9, 4), (3, 5), (6, 3), (8, 9), (6, 5), (2, 7), (9, 2), (2, 0), (9, 8), (7, 7), (0, 1), (8, 8), (8, 8), (0, 9), (0, 2), (7, 4), (10, 6), (1, 4), (10, 3), (6, 4), (1, 5), (3, 5), (5, 3), (0, 5), (10, 8), (6, 1), (4, 2), (7, 7), (6, 3), (7, 3), (9, 8), (6, 4), (4, 6), (9, 10), (0, 0), (4, 2), (4, 1), (3, 0), (9, 4), (4, 8), (6, 5), (3, 10), (5, 3), (0, 1), (2, 2), (7, 9), (9, 8), (3, 8), (10, 6), (2, 7), (1, 1), (9, 2), (6, 10), (8, 6), (5, 7)]\n",
      "[(5, 2), (6, 2), (5, 0), (0, 0), (10, 2), (2, 3), (3, 6), (3, 9), (8, 1), (3, 3), (1, 9), (8, 2), (3, 9), (9, 0), (10, 0), (7, 0), (9, 5), (4, 2), (1, 3), (4, 0), (4, 3), (2, 0), (3, 3), (5, 2), (6, 0), (7, 7), (10, 0), (0, 1), (7, 0), (3, 2), (4, 10), (4, 0), (8, 0), (2, 3), (1, 9), (1, 9), (9, 0), (8, 2), (4, 0), (0, 2), (6, 4), (10, 0), (4, 0), (1, 3), (0, 9), (9, 4), (3, 5), (6, 3), (8, 9), (6, 5), (2, 7), (9, 2), (2, 0), (9, 8), (7, 7), (0, 1), (8, 8), (8, 8), (0, 9), (0, 2), (7, 4), (10, 6), (1, 4), (10, 3), (6, 4), (1, 5), (3, 5), (5, 3), (0, 5), (10, 8), (6, 1), (4, 2), (7, 7), (6, 3), (7, 3), (9, 8), (6, 4), (4, 6), (9, 10), (0, 0), (4, 2), (4, 1), (3, 0), (9, 4), (4, 8), (6, 5), (3, 10), (5, 3), (0, 1), (2, 2), (7, 9), (9, 8), (3, 8), (10, 6), (2, 7), (1, 1), (9, 2), (6, 10), (8, 6), (5, 7)]\n",
      "[(5, 2), (6, 2), (5, 0), (0, 0), (10, 2), (2, 3), (3, 6), (3, 9), (8, 1), (3, 3), (1, 9), (8, 2), (3, 9), (9, 0), (10, 0), (7, 0), (9, 5), (4, 2), (1, 3), (4, 0), (4, 3), (2, 0), (3, 3), (5, 2), (6, 0), (7, 7), (10, 0), (0, 1), (7, 0), (3, 2), (4, 10), (4, 0), (8, 0), (2, 3), (1, 9), (1, 9), (9, 0), (8, 2), (4, 0), (0, 2), (6, 4), (10, 0), (4, 0), (1, 3), (0, 9), (9, 4), (3, 5), (6, 3), (8, 9), (6, 5), (2, 7), (9, 2), (2, 0), (9, 8), (7, 7), (0, 1), (8, 8), (8, 8), (0, 9), (0, 2), (7, 4), (10, 6), (1, 4), (10, 3), (6, 4), (1, 5), (3, 5), (5, 3), (0, 5), (10, 8), (6, 1), (4, 2), (7, 7), (6, 3), (7, 3), (9, 8), (6, 4), (4, 6), (9, 10), (0, 0), (4, 2), (4, 1), (3, 0), (9, 4), (4, 8), (6, 5), (3, 10), (5, 3), (0, 1), (2, 2), (7, 9), (9, 8), (3, 8), (10, 6), (2, 7), (1, 1), (9, 2), (6, 10), (8, 6), (5, 7)]\n",
      "[(5, 2), (6, 2), (5, 0), (0, 0), (10, 2), (2, 3), (3, 6), (3, 9), (8, 1), (3, 3), (1, 9), (8, 2), (3, 9), (9, 0), (10, 0), (7, 0), (9, 5), (4, 2), (1, 3), (4, 0), (4, 3), (2, 0), (3, 3), (5, 2), (6, 0), (7, 7), (10, 0), (0, 1), (7, 0), (3, 2), (4, 10), (4, 0), (8, 0), (2, 3), (1, 9), (1, 9), (9, 0), (8, 2), (4, 0), (0, 2), (6, 4), (10, 0), (4, 0), (1, 3), (0, 9), (9, 4), (3, 5), (6, 3), (8, 9), (6, 5), (2, 7), (9, 2), (2, 0), (9, 8), (7, 7), (0, 1), (8, 8), (8, 8), (0, 9), (0, 2), (7, 4), (10, 6), (1, 4), (10, 3), (6, 4), (1, 5), (3, 5), (5, 3), (0, 5), (10, 8), (6, 1), (4, 2), (7, 7), (6, 3), (7, 3), (9, 8), (6, 4), (4, 6), (9, 10), (0, 0), (4, 2), (4, 1), (3, 0), (9, 4), (4, 8), (6, 5), (3, 10), (5, 3), (0, 1), (2, 2), (7, 9), (9, 8), (3, 8), (10, 6), (2, 7), (1, 1), (9, 2), (6, 10), (8, 6), (5, 7)]\n",
      "[(5, 2), (6, 2), (5, 0), (0, 0), (10, 2), (2, 3), (3, 6), (3, 9), (8, 1), (3, 3), (1, 9), (8, 2), (3, 9), (9, 0), (10, 0), (7, 0), (9, 5), (4, 2), (1, 3), (4, 0), (4, 3), (2, 0), (3, 3), (5, 2), (6, 0), (7, 7), (10, 0), (0, 1), (7, 0), (3, 2), (4, 10), (4, 0), (8, 0), (2, 3), (1, 9), (1, 9), (9, 0), (8, 2), (4, 0), (0, 2), (6, 4), (10, 0), (4, 0), (1, 3), (0, 9), (9, 4), (3, 5), (6, 3), (8, 9), (6, 5), (2, 7), (9, 2), (2, 0), (9, 8), (7, 7), (0, 1), (8, 8), (8, 8), (0, 9), (0, 2), (7, 4), (10, 6), (1, 4), (10, 3), (6, 4), (1, 5), (3, 5), (5, 3), (0, 5), (10, 8), (6, 1), (4, 2), (7, 7), (6, 3), (7, 3), (9, 8), (6, 4), (4, 6), (9, 10), (0, 0), (4, 2), (4, 1), (3, 0), (9, 4), (4, 8), (6, 5), (3, 10), (5, 3), (0, 1), (2, 2), (7, 9), (9, 8), (3, 8), (10, 6), (2, 7), (1, 1), (9, 2), (6, 10), (8, 6), (5, 7)]\n",
      "[(5, 2), (6, 2), (5, 0), (0, 0), (10, 2), (2, 3), (3, 6), (3, 9), (8, 1), (3, 3), (1, 9), (8, 2), (3, 9), (9, 0), (10, 0), (7, 0), (9, 5), (4, 2), (1, 3), (4, 0), (4, 3), (2, 0), (3, 3), (5, 2), (6, 0), (7, 7), (10, 0), (0, 1), (7, 0), (3, 2), (4, 10), (4, 0), (8, 0), (2, 3), (1, 9), (1, 9), (9, 0), (8, 2), (4, 0), (0, 2), (6, 4), (10, 0), (4, 0), (1, 3), (0, 9), (9, 4), (3, 5), (6, 3), (8, 9), (6, 5), (2, 7), (9, 2), (2, 0), (9, 8), (7, 7), (0, 1), (8, 8), (8, 8), (0, 9), (0, 2), (7, 4), (10, 6), (1, 4), (10, 3), (6, 4), (1, 5), (3, 5), (5, 3), (0, 5), (10, 8), (6, 1), (4, 2), (7, 7), (6, 3), (7, 3), (9, 8), (6, 4), (4, 6), (9, 10), (0, 0), (4, 2), (4, 1), (3, 0), (9, 4), (4, 8), (6, 5), (3, 10), (5, 3), (0, 1), (2, 2), (7, 9), (9, 8), (3, 8), (10, 6), (2, 7), (1, 1), (9, 2), (6, 10), (8, 6), (5, 7)]\n",
      "[(5, 2), (6, 2), (5, 0), (0, 0), (10, 2), (2, 3), (3, 6), (3, 9), (8, 1), (3, 3), (1, 9), (8, 2), (3, 9), (9, 0), (10, 0), (7, 0), (9, 5), (4, 2), (1, 3), (4, 0), (4, 3), (2, 0), (3, 3), (5, 2), (6, 0), (7, 7), (10, 0), (0, 1), (7, 0), (3, 2), (4, 10), (4, 0), (8, 0), (2, 3), (1, 9), (1, 9), (9, 0), (8, 2), (4, 0), (0, 2), (6, 4), (10, 0), (4, 0), (1, 3), (0, 9), (9, 4), (3, 5), (6, 3), (8, 9), (6, 5), (2, 7), (9, 2), (2, 0), (9, 8), (7, 7), (0, 1), (8, 8), (8, 8), (0, 9), (0, 2), (7, 4), (10, 6), (1, 4), (10, 3), (6, 4), (1, 5), (3, 5), (5, 3), (0, 5), (10, 8), (6, 1), (4, 2), (7, 7), (6, 3), (7, 3), (9, 8), (6, 4), (4, 6), (9, 10), (0, 0), (4, 2), (4, 1), (3, 0), (9, 4), (4, 8), (6, 5), (3, 10), (5, 3), (0, 1), (2, 2), (7, 9), (9, 8), (3, 8), (10, 6), (2, 7), (1, 1), (9, 2), (6, 10), (8, 6), (5, 7)]\n",
      "[(5, 2), (6, 2), (5, 0), (0, 0), (10, 2), (2, 3), (3, 6), (3, 9), (8, 1), (3, 3), (1, 9), (8, 2), (3, 9), (9, 0), (10, 0), (7, 0), (9, 5), (4, 2), (1, 3), (4, 0), (4, 3), (2, 0), (3, 3), (5, 2), (6, 0), (7, 7), (10, 0), (0, 1), (7, 0), (3, 2), (4, 10), (4, 0), (8, 0), (2, 3), (1, 9), (1, 9), (9, 0), (8, 2), (4, 0), (0, 2), (6, 4), (10, 0), (4, 0), (1, 3), (0, 9), (9, 4), (3, 5), (6, 3), (8, 9), (6, 5), (2, 7), (9, 2), (2, 0), (9, 8), (7, 7), (0, 1), (8, 8), (8, 8), (0, 9), (0, 2), (7, 4), (10, 6), (1, 4), (10, 3), (6, 4), (1, 5), (3, 5), (5, 3), (0, 5), (10, 8), (6, 1), (4, 2), (7, 7), (6, 3), (7, 3), (9, 8), (6, 4), (4, 6), (9, 10), (0, 0), (4, 2), (4, 1), (3, 0), (9, 4), (4, 8), (6, 5), (3, 10), (5, 3), (0, 1), (2, 2), (7, 9), (9, 8), (3, 8), (10, 6), (2, 7), (1, 1), (9, 2), (6, 10), (8, 6), (5, 7)]\n",
      "[(5, 2), (6, 2), (5, 0), (0, 0), (10, 2), (2, 3), (3, 6), (3, 9), (8, 1), (3, 3), (1, 9), (8, 2), (3, 9), (9, 0), (10, 0), (7, 0), (9, 5), (4, 2), (1, 3), (4, 0), (4, 3), (2, 0), (3, 3), (5, 2), (6, 0), (7, 7), (10, 0), (0, 1), (7, 0), (3, 2), (4, 10), (4, 0), (8, 0), (2, 3), (1, 9), (1, 9), (9, 0), (8, 2), (4, 0), (0, 2), (6, 4), (10, 0), (4, 0), (1, 3), (0, 9), (9, 4), (3, 5), (6, 3), (8, 9), (6, 5), (2, 7), (9, 2), (2, 0), (9, 8), (7, 7), (0, 1), (8, 8), (8, 8), (0, 9), (0, 2), (7, 4), (10, 6), (1, 4), (10, 3), (6, 4), (1, 5), (3, 5), (5, 3), (0, 5), (10, 8), (6, 1), (4, 2), (7, 7), (6, 3), (7, 3), (9, 8), (6, 4), (4, 6), (9, 10), (0, 0), (4, 2), (4, 1), (3, 0), (9, 4), (4, 8), (6, 5), (3, 10), (5, 3), (0, 1), (2, 2), (7, 9), (9, 8), (3, 8), (10, 6), (2, 7), (1, 1), (9, 2), (6, 10), (8, 6), (5, 7)]\n",
      "[(5, 2), (6, 2), (5, 0), (0, 0), (10, 2), (2, 3), (3, 6), (3, 9), (8, 1), (3, 3), (1, 9), (8, 2), (3, 9), (9, 0), (10, 0), (7, 0), (9, 5), (4, 2), (1, 3), (4, 0), (4, 3), (2, 0), (3, 3), (5, 2), (6, 0), (7, 7), (10, 0), (0, 1), (7, 0), (3, 2), (4, 10), (4, 0), (8, 0), (2, 3), (1, 9), (1, 9), (9, 0), (8, 2), (4, 0), (0, 2), (6, 4), (10, 0), (4, 0), (1, 3), (0, 9), (9, 4), (3, 5), (6, 3), (8, 9), (6, 5), (2, 7), (9, 2), (2, 0), (9, 8), (7, 7), (0, 1), (8, 8), (8, 8), (0, 9), (0, 2), (7, 4), (10, 6), (1, 4), (10, 3), (6, 4), (1, 5), (3, 5), (5, 3), (0, 5), (10, 8), (6, 1), (4, 2), (7, 7), (6, 3), (7, 3), (9, 8), (6, 4), (4, 6), (9, 10), (0, 0), (4, 2), (4, 1), (3, 0), (9, 4), (4, 8), (6, 5), (3, 10), (5, 3), (0, 1), (2, 2), (7, 9), (9, 8), (3, 8), (10, 6), (2, 7), (1, 1), (9, 2), (6, 10), (8, 6), (5, 7)]\n",
      "[(5, 2), (6, 2), (5, 0), (0, 0), (10, 2), (2, 3), (3, 6), (3, 9), (8, 1), (3, 3), (1, 9), (8, 2), (3, 9), (9, 0), (10, 0), (7, 0), (9, 5), (4, 2), (1, 3), (4, 0), (4, 3), (2, 0), (3, 3), (5, 2), (6, 0), (7, 7), (10, 0), (0, 1), (7, 0), (3, 2), (4, 10), (4, 0), (8, 0), (2, 3), (1, 9), (1, 9), (9, 0), (8, 2), (4, 0), (0, 2), (6, 4), (10, 0), (4, 0), (1, 3), (0, 9), (9, 4), (3, 5), (6, 3), (8, 9), (6, 5), (2, 7), (9, 2), (2, 0), (9, 8), (7, 7), (0, 1), (8, 8), (8, 8), (0, 9), (0, 2), (7, 4), (10, 6), (1, 4), (10, 3), (6, 4), (1, 5), (3, 5), (5, 3), (0, 5), (10, 8), (6, 1), (4, 2), (7, 7), (6, 3), (7, 3), (9, 8), (6, 4), (4, 6), (9, 10), (0, 0), (4, 2), (4, 1), (3, 0), (9, 4), (4, 8), (6, 5), (3, 10), (5, 3), (0, 1), (2, 2), (7, 9), (9, 8), (3, 8), (10, 6), (2, 7), (1, 1), (9, 2), (6, 10), (8, 6), (5, 7)]\n",
      "[(5, 2), (6, 2), (5, 0), (0, 0), (10, 2), (2, 3), (3, 6), (3, 9), (8, 1), (3, 3), (1, 9), (8, 2), (3, 9), (9, 0), (10, 0), (7, 0), (9, 5), (4, 2), (1, 3), (4, 0), (4, 3), (2, 0), (3, 3), (5, 2), (6, 0), (7, 7), (10, 0), (0, 1), (7, 0), (3, 2), (4, 10), (4, 0), (8, 0), (2, 3), (1, 9), (1, 9), (9, 0), (8, 2), (4, 0), (0, 2), (6, 4), (10, 0), (4, 0), (1, 3), (0, 9), (9, 4), (3, 5), (6, 3), (8, 9), (6, 5), (2, 7), (9, 2), (2, 0), (9, 8), (7, 7), (0, 1), (8, 8), (8, 8), (0, 9), (0, 2), (7, 4), (10, 6), (1, 4), (10, 3), (6, 4), (1, 5), (3, 5), (5, 3), (0, 5), (10, 8), (6, 1), (4, 2), (7, 7), (6, 3), (7, 3), (9, 8), (6, 4), (4, 6), (9, 10), (0, 0), (4, 2), (4, 1), (3, 0), (9, 4), (4, 8), (6, 5), (3, 10), (5, 3), (0, 1), (2, 2), (7, 9), (9, 8), (3, 8), (10, 6), (2, 7), (1, 1), (9, 2), (6, 10), (8, 6), (5, 7)]\n",
      "[(5, 2), (6, 2), (5, 0), (0, 0), (10, 2), (2, 3), (3, 6), (3, 9), (8, 1), (3, 3), (1, 9), (8, 2), (3, 9), (9, 0), (10, 0), (7, 0), (9, 5), (4, 2), (1, 3), (4, 0), (4, 3), (2, 0), (3, 3), (5, 2), (6, 0), (7, 7), (10, 0), (0, 1), (7, 0), (3, 2), (4, 10), (4, 0), (8, 0), (2, 3), (1, 9), (1, 9), (9, 0), (8, 2), (4, 0), (0, 2), (6, 4), (10, 0), (4, 0), (1, 3), (0, 9), (9, 4), (3, 5), (6, 3), (8, 9), (6, 5), (2, 7), (9, 2), (2, 0), (9, 8), (7, 7), (0, 1), (8, 8), (8, 8), (0, 9), (0, 2), (7, 4), (10, 6), (1, 4), (10, 3), (6, 4), (1, 5), (3, 5), (5, 3), (0, 5), (10, 8), (6, 1), (4, 2), (7, 7), (6, 3), (7, 3), (9, 8), (6, 4), (4, 6), (9, 10), (0, 0), (4, 2), (4, 1), (3, 0), (9, 4), (4, 8), (6, 5), (3, 10), (5, 3), (0, 1), (2, 2), (7, 9), (9, 8), (3, 8), (10, 6), (2, 7), (1, 1), (9, 2), (6, 10), (8, 6), (5, 7)]\n",
      "[(5, 2), (6, 2), (5, 0), (0, 0), (10, 2), (2, 3), (3, 6), (3, 9), (8, 1), (3, 3), (1, 9), (8, 2), (3, 9), (9, 0), (10, 0), (7, 0), (9, 5), (4, 2), (1, 3), (4, 0), (4, 3), (2, 0), (3, 3), (5, 2), (6, 0), (7, 7), (10, 0), (0, 1), (7, 0), (3, 2), (4, 10), (4, 0), (8, 0), (2, 3), (1, 9), (1, 9), (9, 0), (8, 2), (4, 0), (0, 2), (6, 4), (10, 0), (4, 0), (1, 3), (0, 9), (9, 4), (3, 5), (6, 3), (8, 9), (6, 5), (2, 7), (9, 2), (2, 0), (9, 8), (7, 7), (0, 1), (8, 8), (8, 8), (0, 9), (0, 2), (7, 4), (10, 6), (1, 4), (10, 3), (6, 4), (1, 5), (3, 5), (5, 3), (0, 5), (10, 8), (6, 1), (4, 2), (7, 7), (6, 3), (7, 3), (9, 8), (6, 4), (4, 6), (9, 10), (0, 0), (4, 2), (4, 1), (3, 0), (9, 4), (4, 8), (6, 5), (3, 10), (5, 3), (0, 1), (2, 2), (7, 9), (9, 8), (3, 8), (10, 6), (2, 7), (1, 1), (9, 2), (6, 10), (8, 6), (5, 7)]\n",
      "[(5, 2), (6, 2), (5, 0), (0, 0), (10, 2), (2, 3), (3, 6), (3, 9), (8, 1), (3, 3), (1, 9), (8, 2), (3, 9), (9, 0), (10, 0), (7, 0), (9, 5), (4, 2), (1, 3), (4, 0), (4, 3), (2, 0), (3, 3), (5, 2), (6, 0), (7, 7), (10, 0), (0, 1), (7, 0), (3, 2), (4, 10), (4, 0), (8, 0), (2, 3), (1, 9), (1, 9), (9, 0), (8, 2), (4, 0), (0, 2), (6, 4), (10, 0), (4, 0), (1, 3), (0, 9), (9, 4), (3, 5), (6, 3), (8, 9), (6, 5), (2, 7), (9, 2), (2, 0), (9, 8), (7, 7), (0, 1), (8, 8), (8, 8), (0, 9), (0, 2), (7, 4), (10, 6), (1, 4), (10, 3), (6, 4), (1, 5), (3, 5), (5, 3), (0, 5), (10, 8), (6, 1), (4, 2), (7, 7), (6, 3), (7, 3), (9, 8), (6, 4), (4, 6), (9, 10), (0, 0), (4, 2), (4, 1), (3, 0), (9, 4), (4, 8), (6, 5), (3, 10), (5, 3), (0, 1), (2, 2), (7, 9), (9, 8), (3, 8), (10, 6), (2, 7), (1, 1), (9, 2), (6, 10), (8, 6), (5, 7)]\n",
      "[(5, 2), (6, 2), (5, 0), (0, 0), (10, 2), (2, 3), (3, 6), (3, 9), (8, 1), (3, 3), (1, 9), (8, 2), (3, 9), (9, 0), (10, 0), (7, 0), (9, 5), (4, 2), (1, 3), (4, 0), (4, 3), (2, 0), (3, 3), (5, 2), (6, 0), (7, 7), (10, 0), (0, 1), (7, 0), (3, 2), (4, 10), (4, 0), (8, 0), (2, 3), (1, 9), (1, 9), (9, 0), (8, 2), (4, 0), (0, 2), (6, 4), (10, 0), (4, 0), (1, 3), (0, 9), (9, 4), (3, 5), (6, 3), (8, 9), (6, 5), (2, 7), (9, 2), (2, 0), (9, 8), (7, 7), (0, 1), (8, 8), (8, 8), (0, 9), (0, 2), (7, 4), (10, 6), (1, 4), (10, 3), (6, 4), (1, 5), (3, 5), (5, 3), (0, 5), (10, 8), (6, 1), (4, 2), (7, 7), (6, 3), (7, 3), (9, 8), (6, 4), (4, 6), (9, 10), (0, 0), (4, 2), (4, 1), (3, 0), (9, 4), (4, 8), (6, 5), (3, 10), (5, 3), (0, 1), (2, 2), (7, 9), (9, 8), (3, 8), (10, 6), (2, 7), (1, 1), (9, 2), (6, 10), (8, 6), (5, 7)]\n",
      "[(5, 2), (6, 2), (5, 0), (0, 0), (10, 2), (2, 3), (3, 6), (3, 9), (8, 1), (3, 3), (1, 9), (8, 2), (3, 9), (9, 0), (10, 0), (7, 0), (9, 5), (4, 2), (1, 3), (4, 0), (4, 3), (2, 0), (3, 3), (5, 2), (6, 0), (7, 7), (10, 0), (0, 1), (7, 0), (3, 2), (4, 10), (4, 0), (8, 0), (2, 3), (1, 9), (1, 9), (9, 0), (8, 2), (4, 0), (0, 2), (6, 4), (10, 0), (4, 0), (1, 3), (0, 9), (9, 4), (3, 5), (6, 3), (8, 9), (6, 5), (2, 7), (9, 2), (2, 0), (9, 8), (7, 7), (0, 1), (8, 8), (8, 8), (0, 9), (0, 2), (7, 4), (10, 6), (1, 4), (10, 3), (6, 4), (1, 5), (3, 5), (5, 3), (0, 5), (10, 8), (6, 1), (4, 2), (7, 7), (6, 3), (7, 3), (9, 8), (6, 4), (4, 6), (9, 10), (0, 0), (4, 2), (4, 1), (3, 0), (9, 4), (4, 8), (6, 5), (3, 10), (5, 3), (0, 1), (2, 2), (7, 9), (9, 8), (3, 8), (10, 6), (2, 7), (1, 1), (9, 2), (6, 10), (8, 6), (5, 7)]\n",
      "[(5, 2), (6, 2), (5, 0), (0, 0), (10, 2), (2, 3), (3, 6), (3, 9), (8, 1), (3, 3), (1, 9), (8, 2), (3, 9), (9, 0), (10, 0), (7, 0), (9, 5), (4, 2), (1, 3), (4, 0), (4, 3), (2, 0), (3, 3), (5, 2), (6, 0), (7, 7), (10, 0), (0, 1), (7, 0), (3, 2), (4, 10), (4, 0), (8, 0), (2, 3), (1, 9), (1, 9), (9, 0), (8, 2), (4, 0), (0, 2), (6, 4), (10, 0), (4, 0), (1, 3), (0, 9), (9, 4), (3, 5), (6, 3), (8, 9), (6, 5), (2, 7), (9, 2), (2, 0), (9, 8), (7, 7), (0, 1), (8, 8), (8, 8), (0, 9), (0, 2), (7, 4), (10, 6), (1, 4), (10, 3), (6, 4), (1, 5), (3, 5), (5, 3), (0, 5), (10, 8), (6, 1), (4, 2), (7, 7), (6, 3), (7, 3), (9, 8), (6, 4), (4, 6), (9, 10), (0, 0), (4, 2), (4, 1), (3, 0), (9, 4), (4, 8), (6, 5), (3, 10), (5, 3), (0, 1), (2, 2), (7, 9), (9, 8), (3, 8), (10, 6), (2, 7), (1, 1), (9, 2), (6, 10), (8, 6), (5, 7)]\n",
      "[(5, 2), (6, 2), (5, 0), (0, 0), (10, 2), (2, 3), (3, 6), (3, 9), (8, 1), (3, 3), (1, 9), (8, 2), (3, 9), (9, 0), (10, 0), (7, 0), (9, 5), (4, 2), (1, 3), (4, 0), (4, 3), (2, 0), (3, 3), (5, 2), (6, 0), (7, 7), (10, 0), (0, 1), (7, 0), (3, 2), (4, 10), (4, 0), (8, 0), (2, 3), (1, 9), (1, 9), (9, 0), (8, 2), (4, 0), (0, 2), (6, 4), (10, 0), (4, 0), (1, 3), (0, 9), (9, 4), (3, 5), (6, 3), (8, 9), (6, 5), (2, 7), (9, 2), (2, 0), (9, 8), (7, 7), (0, 1), (8, 8), (8, 8), (0, 9), (0, 2), (7, 4), (10, 6), (1, 4), (10, 3), (6, 4), (1, 5), (3, 5), (5, 3), (0, 5), (10, 8), (6, 1), (4, 2), (7, 7), (6, 3), (7, 3), (9, 8), (6, 4), (4, 6), (9, 10), (0, 0), (4, 2), (4, 1), (3, 0), (9, 4), (4, 8), (6, 5), (3, 10), (5, 3), (0, 1), (2, 2), (7, 9), (9, 8), (3, 8), (10, 6), (2, 7), (1, 1), (9, 2), (6, 10), (8, 6), (5, 7)]\n",
      "[(5, 2), (6, 2), (5, 0), (0, 0), (10, 2), (2, 3), (3, 6), (3, 9), (8, 1), (3, 3), (1, 9), (8, 2), (3, 9), (9, 0), (10, 0), (7, 0), (9, 5), (4, 2), (1, 3), (4, 0), (4, 3), (2, 0), (3, 3), (5, 2), (6, 0), (7, 7), (10, 0), (0, 1), (7, 0), (3, 2), (4, 10), (4, 0), (8, 0), (2, 3), (1, 9), (1, 9), (9, 0), (8, 2), (4, 0), (0, 2), (6, 4), (10, 0), (4, 0), (1, 3), (0, 9), (9, 4), (3, 5), (6, 3), (8, 9), (6, 5), (2, 7), (9, 2), (2, 0), (9, 8), (7, 7), (0, 1), (8, 8), (8, 8), (0, 9), (0, 2), (7, 4), (10, 6), (1, 4), (10, 3), (6, 4), (1, 5), (3, 5), (5, 3), (0, 5), (10, 8), (6, 1), (4, 2), (7, 7), (6, 3), (7, 3), (9, 8), (6, 4), (4, 6), (9, 10), (0, 0), (4, 2), (4, 1), (3, 0), (9, 4), (4, 8), (6, 5), (3, 10), (5, 3), (0, 1), (2, 2), (7, 9), (9, 8), (3, 8), (10, 6), (2, 7), (1, 1), (9, 2), (6, 10), (8, 6), (5, 7)]\n",
      "[(5, 2), (6, 2), (5, 0), (0, 0), (10, 2), (2, 3), (3, 6), (3, 9), (8, 1), (3, 3), (1, 9), (8, 2), (3, 9), (9, 0), (10, 0), (7, 0), (9, 5), (4, 2), (1, 3), (4, 0), (4, 3), (2, 0), (3, 3), (5, 2), (6, 0), (7, 7), (10, 0), (0, 1), (7, 0), (3, 2), (4, 10), (4, 0), (8, 0), (2, 3), (1, 9), (1, 9), (9, 0), (8, 2), (4, 0), (0, 2), (6, 4), (10, 0), (4, 0), (1, 3), (0, 9), (9, 4), (3, 5), (6, 3), (8, 9), (6, 5), (2, 7), (9, 2), (2, 0), (9, 8), (7, 7), (0, 1), (8, 8), (8, 8), (0, 9), (0, 2), (7, 4), (10, 6), (1, 4), (10, 3), (6, 4), (1, 5), (3, 5), (5, 3), (0, 5), (10, 8), (6, 1), (4, 2), (7, 7), (6, 3), (7, 3), (9, 8), (6, 4), (4, 6), (9, 10), (0, 0), (4, 2), (4, 1), (3, 0), (9, 4), (4, 8), (6, 5), (3, 10), (5, 3), (0, 1), (2, 2), (7, 9), (9, 8), (3, 8), (10, 6), (2, 7), (1, 1), (9, 2), (6, 10), (8, 6), (5, 7)]\n",
      "[(5, 2), (6, 2), (5, 0), (0, 0), (10, 2), (2, 3), (3, 6), (3, 9), (8, 1), (3, 3), (1, 9), (8, 2), (3, 9), (9, 0), (10, 0), (7, 0), (9, 5), (4, 2), (1, 3), (4, 0), (4, 3), (2, 0), (3, 3), (5, 2), (6, 0), (7, 7), (10, 0), (0, 1), (7, 0), (3, 2), (4, 10), (4, 0), (8, 0), (2, 3), (1, 9), (1, 9), (9, 0), (8, 2), (4, 0), (0, 2), (6, 4), (10, 0), (4, 0), (1, 3), (0, 9), (9, 4), (3, 5), (6, 3), (8, 9), (6, 5), (2, 7), (9, 2), (2, 0), (9, 8), (7, 7), (0, 1), (8, 8), (8, 8), (0, 9), (0, 2), (7, 4), (10, 6), (1, 4), (10, 3), (6, 4), (1, 5), (3, 5), (5, 3), (0, 5), (10, 8), (6, 1), (4, 2), (7, 7), (6, 3), (7, 3), (9, 8), (6, 4), (4, 6), (9, 10), (0, 0), (4, 2), (4, 1), (3, 0), (9, 4), (4, 8), (6, 5), (3, 10), (5, 3), (0, 1), (2, 2), (7, 9), (9, 8), (3, 8), (10, 6), (2, 7), (1, 1), (9, 2), (6, 10), (8, 6), (5, 7)]\n",
      "[(5, 2), (6, 2), (5, 0), (0, 0), (10, 2), (2, 3), (3, 6), (3, 9), (8, 1), (3, 3), (1, 9), (8, 2), (3, 9), (9, 0), (10, 0), (7, 0), (9, 5), (4, 2), (1, 3), (4, 0), (4, 3), (2, 0), (3, 3), (5, 2), (6, 0), (7, 7), (10, 0), (0, 1), (7, 0), (3, 2), (4, 10), (4, 0), (8, 0), (2, 3), (1, 9), (1, 9), (9, 0), (8, 2), (4, 0), (0, 2), (6, 4), (10, 0), (4, 0), (1, 3), (0, 9), (9, 4), (3, 5), (6, 3), (8, 9), (6, 5), (2, 7), (9, 2), (2, 0), (9, 8), (7, 7), (0, 1), (8, 8), (8, 8), (0, 9), (0, 2), (7, 4), (10, 6), (1, 4), (10, 3), (6, 4), (1, 5), (3, 5), (5, 3), (0, 5), (10, 8), (6, 1), (4, 2), (7, 7), (6, 3), (7, 3), (9, 8), (6, 4), (4, 6), (9, 10), (0, 0), (4, 2), (4, 1), (3, 0), (9, 4), (4, 8), (6, 5), (3, 10), (5, 3), (0, 1), (2, 2), (7, 9), (9, 8), (3, 8), (10, 6), (2, 7), (1, 1), (9, 2), (6, 10), (8, 6), (5, 7)]\n",
      "[(5, 2), (6, 2), (5, 0), (0, 0), (10, 2), (2, 3), (3, 6), (3, 9), (8, 1), (3, 3), (1, 9), (8, 2), (3, 9), (9, 0), (10, 0), (7, 0), (9, 5), (4, 2), (1, 3), (4, 0), (4, 3), (2, 0), (3, 3), (5, 2), (6, 0), (7, 7), (10, 0), (0, 1), (7, 0), (3, 2), (4, 10), (4, 0), (8, 0), (2, 3), (1, 9), (1, 9), (9, 0), (8, 2), (4, 0), (0, 2), (6, 4), (10, 0), (4, 0), (1, 3), (0, 9), (9, 4), (3, 5), (6, 3), (8, 9), (6, 5), (2, 7), (9, 2), (2, 0), (9, 8), (7, 7), (0, 1), (8, 8), (8, 8), (0, 9), (0, 2), (7, 4), (10, 6), (1, 4), (10, 3), (6, 4), (1, 5), (3, 5), (5, 3), (0, 5), (10, 8), (6, 1), (4, 2), (7, 7), (6, 3), (7, 3), (9, 8), (6, 4), (4, 6), (9, 10), (0, 0), (4, 2), (4, 1), (3, 0), (9, 4), (4, 8), (6, 5), (3, 10), (5, 3), (0, 1), (2, 2), (7, 9), (9, 8), (3, 8), (10, 6), (2, 7), (1, 1), (9, 2), (6, 10), (8, 6), (5, 7)]\n",
      "[(5, 2), (6, 2), (5, 0), (0, 0), (10, 2), (2, 3), (3, 6), (3, 9), (8, 1), (3, 3), (1, 9), (8, 2), (3, 9), (9, 0), (10, 0), (7, 0), (9, 5), (4, 2), (1, 3), (4, 0), (4, 3), (2, 0), (3, 3), (5, 2), (6, 0), (7, 7), (10, 0), (0, 1), (7, 0), (3, 2), (4, 10), (4, 0), (8, 0), (2, 3), (1, 9), (1, 9), (9, 0), (8, 2), (4, 0), (0, 2), (6, 4), (10, 0), (4, 0), (1, 3), (0, 9), (9, 4), (3, 5), (6, 3), (8, 9), (6, 5), (2, 7), (9, 2), (2, 0), (9, 8), (7, 7), (0, 1), (8, 8), (8, 8), (0, 9), (0, 2), (7, 4), (10, 6), (1, 4), (10, 3), (6, 4), (1, 5), (3, 5), (5, 3), (0, 5), (10, 8), (6, 1), (4, 2), (7, 7), (6, 3), (7, 3), (9, 8), (6, 4), (4, 6), (9, 10), (0, 0), (4, 2), (4, 1), (3, 0), (9, 4), (4, 8), (6, 5), (3, 10), (5, 3), (0, 1), (2, 2), (7, 9), (9, 8), (3, 8), (10, 6), (2, 7), (1, 1), (9, 2), (6, 10), (8, 6), (5, 7)]\n",
      "[(5, 2), (6, 2), (5, 0), (0, 0), (10, 2), (2, 3), (3, 6), (3, 9), (8, 1), (3, 3), (1, 9), (8, 2), (3, 9), (9, 0), (10, 0), (7, 0), (9, 5), (4, 2), (1, 3), (4, 0), (4, 3), (2, 0), (3, 3), (5, 2), (6, 0), (7, 7), (10, 0), (0, 1), (7, 0), (3, 2), (4, 10), (4, 0), (8, 0), (2, 3), (1, 9), (1, 9), (9, 0), (8, 2), (4, 0), (0, 2), (6, 4), (10, 0), (4, 0), (1, 3), (0, 9), (9, 4), (3, 5), (6, 3), (8, 9), (6, 5), (2, 7), (9, 2), (2, 0), (9, 8), (7, 7), (0, 1), (8, 8), (8, 8), (0, 9), (0, 2), (7, 4), (10, 6), (1, 4), (10, 3), (6, 4), (1, 5), (3, 5), (5, 3), (0, 5), (10, 8), (6, 1), (4, 2), (7, 7), (6, 3), (7, 3), (9, 8), (6, 4), (4, 6), (9, 10), (0, 0), (4, 2), (4, 1), (3, 0), (9, 4), (4, 8), (6, 5), (3, 10), (5, 3), (0, 1), (2, 2), (7, 9), (9, 8), (3, 8), (10, 6), (2, 7), (1, 1), (9, 2), (6, 10), (8, 6), (5, 7)]\n",
      "[(5, 2), (6, 2), (5, 0), (0, 0), (10, 2), (2, 3), (3, 6), (3, 9), (8, 1), (3, 3), (1, 9), (8, 2), (3, 9), (9, 0), (10, 0), (7, 0), (9, 5), (4, 2), (1, 3), (4, 0), (4, 3), (2, 0), (3, 3), (5, 2), (6, 0), (7, 7), (10, 0), (0, 1), (7, 0), (3, 2), (4, 10), (4, 0), (8, 0), (2, 3), (1, 9), (1, 9), (9, 0), (8, 2), (4, 0), (0, 2), (6, 4), (10, 0), (4, 0), (1, 3), (0, 9), (9, 4), (3, 5), (6, 3), (8, 9), (6, 5), (2, 7), (9, 2), (2, 0), (9, 8), (7, 7), (0, 1), (8, 8), (8, 8), (0, 9), (0, 2), (7, 4), (10, 6), (1, 4), (10, 3), (6, 4), (1, 5), (3, 5), (5, 3), (0, 5), (10, 8), (6, 1), (4, 2), (7, 7), (6, 3), (7, 3), (9, 8), (6, 4), (4, 6), (9, 10), (0, 0), (4, 2), (4, 1), (3, 0), (9, 4), (4, 8), (6, 5), (3, 10), (5, 3), (0, 1), (2, 2), (7, 9), (9, 8), (3, 8), (10, 6), (2, 7), (1, 1), (9, 2), (6, 10), (8, 6), (5, 7)]\n",
      "[(5, 2), (6, 2), (5, 0), (0, 0), (10, 2), (2, 3), (3, 6), (3, 9), (8, 1), (3, 3), (1, 9), (8, 2), (3, 9), (9, 0), (10, 0), (7, 0), (9, 5), (4, 2), (1, 3), (4, 0), (4, 3), (2, 0), (3, 3), (5, 2), (6, 0), (7, 7), (10, 0), (0, 1), (7, 0), (3, 2), (4, 10), (4, 0), (8, 0), (2, 3), (1, 9), (1, 9), (9, 0), (8, 2), (4, 0), (0, 2), (6, 4), (10, 0), (4, 0), (1, 3), (0, 9), (9, 4), (3, 5), (6, 3), (8, 9), (6, 5), (2, 7), (9, 2), (2, 0), (9, 8), (7, 7), (0, 1), (8, 8), (8, 8), (0, 9), (0, 2), (7, 4), (10, 6), (1, 4), (10, 3), (6, 4), (1, 5), (3, 5), (5, 3), (0, 5), (10, 8), (6, 1), (4, 2), (7, 7), (6, 3), (7, 3), (9, 8), (6, 4), (4, 6), (9, 10), (0, 0), (4, 2), (4, 1), (3, 0), (9, 4), (4, 8), (6, 5), (3, 10), (5, 3), (0, 1), (2, 2), (7, 9), (9, 8), (3, 8), (10, 6), (2, 7), (1, 1), (9, 2), (6, 10), (8, 6), (5, 7)]\n",
      "[(5, 2), (6, 2), (5, 0), (0, 0), (10, 2), (2, 3), (3, 6), (3, 9), (8, 1), (3, 3), (1, 9), (8, 2), (3, 9), (9, 0), (10, 0), (7, 0), (9, 5), (4, 2), (1, 3), (4, 0), (4, 3), (2, 0), (3, 3), (5, 2), (6, 0), (7, 7), (10, 0), (0, 1), (7, 0), (3, 2), (4, 10), (4, 0), (8, 0), (2, 3), (1, 9), (1, 9), (9, 0), (8, 2), (4, 0), (0, 2), (6, 4), (10, 0), (4, 0), (1, 3), (0, 9), (9, 4), (3, 5), (6, 3), (8, 9), (6, 5), (2, 7), (9, 2), (2, 0), (9, 8), (7, 7), (0, 1), (8, 8), (8, 8), (0, 9), (0, 2), (7, 4), (10, 6), (1, 4), (10, 3), (6, 4), (1, 5), (3, 5), (5, 3), (0, 5), (10, 8), (6, 1), (4, 2), (7, 7), (6, 3), (7, 3), (9, 8), (6, 4), (4, 6), (9, 10), (0, 0), (4, 2), (4, 1), (3, 0), (9, 4), (4, 8), (6, 5), (3, 10), (5, 3), (0, 1), (2, 2), (7, 9), (9, 8), (3, 8), (10, 6), (2, 7), (1, 1), (9, 2), (6, 10), (8, 6), (5, 7)]\n",
      "[(5, 2), (6, 2), (5, 0), (0, 0), (10, 2), (2, 3), (3, 6), (3, 9), (8, 1), (3, 3), (1, 9), (8, 2), (3, 9), (9, 0), (10, 0), (7, 0), (9, 5), (4, 2), (1, 3), (4, 0), (4, 3), (2, 0), (3, 3), (5, 2), (6, 0), (7, 7), (10, 0), (0, 1), (7, 0), (3, 2), (4, 10), (4, 0), (8, 0), (2, 3), (1, 9), (1, 9), (9, 0), (8, 2), (4, 0), (0, 2), (6, 4), (10, 0), (4, 0), (1, 3), (0, 9), (9, 4), (3, 5), (6, 3), (8, 9), (6, 5), (2, 7), (9, 2), (2, 0), (9, 8), (7, 7), (0, 1), (8, 8), (8, 8), (0, 9), (0, 2), (7, 4), (10, 6), (1, 4), (10, 3), (6, 4), (1, 5), (3, 5), (5, 3), (0, 5), (10, 8), (6, 1), (4, 2), (7, 7), (6, 3), (7, 3), (9, 8), (6, 4), (4, 6), (9, 10), (0, 0), (4, 2), (4, 1), (3, 0), (9, 4), (4, 8), (6, 5), (3, 10), (5, 3), (0, 1), (2, 2), (7, 9), (9, 8), (3, 8), (10, 6), (2, 7), (1, 1), (9, 2), (6, 10), (8, 6), (5, 7)]\n",
      "[(5, 2), (6, 2), (5, 0), (0, 0), (10, 2), (2, 3), (3, 6), (3, 9), (8, 1), (3, 3), (1, 9), (8, 2), (3, 9), (9, 0), (10, 0), (7, 0), (9, 5), (4, 2), (1, 3), (4, 0), (4, 3), (2, 0), (3, 3), (5, 2), (6, 0), (7, 7), (10, 0), (0, 1), (7, 0), (3, 2), (4, 10), (4, 0), (8, 0), (2, 3), (1, 9), (1, 9), (9, 0), (8, 2), (4, 0), (0, 2), (6, 4), (10, 0), (4, 0), (1, 3), (0, 9), (9, 4), (3, 5), (6, 3), (8, 9), (6, 5), (2, 7), (9, 2), (2, 0), (9, 8), (7, 7), (0, 1), (8, 8), (8, 8), (0, 9), (0, 2), (7, 4), (10, 6), (1, 4), (10, 3), (6, 4), (1, 5), (3, 5), (5, 3), (0, 5), (10, 8), (6, 1), (4, 2), (7, 7), (6, 3), (7, 3), (9, 8), (6, 4), (4, 6), (9, 10), (0, 0), (4, 2), (4, 1), (3, 0), (9, 4), (4, 8), (6, 5), (3, 10), (5, 3), (0, 1), (2, 2), (7, 9), (9, 8), (3, 8), (10, 6), (2, 7), (1, 1), (9, 2), (6, 10), (8, 6), (5, 7)]\n",
      "[(5, 2), (6, 2), (5, 0), (0, 0), (10, 2), (2, 3), (3, 6), (3, 9), (8, 1), (3, 3), (1, 9), (8, 2), (3, 9), (9, 0), (10, 0), (7, 0), (9, 5), (4, 2), (1, 3), (4, 0), (4, 3), (2, 0), (3, 3), (5, 2), (6, 0), (7, 7), (10, 0), (0, 1), (7, 0), (3, 2), (4, 10), (4, 0), (8, 0), (2, 3), (1, 9), (1, 9), (9, 0), (8, 2), (4, 0), (0, 2), (6, 4), (10, 0), (4, 0), (1, 3), (0, 9), (9, 4), (3, 5), (6, 3), (8, 9), (6, 5), (2, 7), (9, 2), (2, 0), (9, 8), (7, 7), (0, 1), (8, 8), (8, 8), (0, 9), (0, 2), (7, 4), (10, 6), (1, 4), (10, 3), (6, 4), (1, 5), (3, 5), (5, 3), (0, 5), (10, 8), (6, 1), (4, 2), (7, 7), (6, 3), (7, 3), (9, 8), (6, 4), (4, 6), (9, 10), (0, 0), (4, 2), (4, 1), (3, 0), (9, 4), (4, 8), (6, 5), (3, 10), (5, 3), (0, 1), (2, 2), (7, 9), (9, 8), (3, 8), (10, 6), (2, 7), (1, 1), (9, 2), (6, 10), (8, 6), (5, 7)]\n",
      "[(5, 2), (6, 2), (5, 0), (0, 0), (10, 2), (2, 3), (3, 6), (3, 9), (8, 1), (3, 3), (1, 9), (8, 2), (3, 9), (9, 0), (10, 0), (7, 0), (9, 5), (4, 2), (1, 3), (4, 0), (4, 3), (2, 0), (3, 3), (5, 2), (6, 0), (7, 7), (10, 0), (0, 1), (7, 0), (3, 2), (4, 10), (4, 0), (8, 0), (2, 3), (1, 9), (1, 9), (9, 0), (8, 2), (4, 0), (0, 2), (6, 4), (10, 0), (4, 0), (1, 3), (0, 9), (9, 4), (3, 5), (6, 3), (8, 9), (6, 5), (2, 7), (9, 2), (2, 0), (9, 8), (7, 7), (0, 1), (8, 8), (8, 8), (0, 9), (0, 2), (7, 4), (10, 6), (1, 4), (10, 3), (6, 4), (1, 5), (3, 5), (5, 3), (0, 5), (10, 8), (6, 1), (4, 2), (7, 7), (6, 3), (7, 3), (9, 8), (6, 4), (4, 6), (9, 10), (0, 0), (4, 2), (4, 1), (3, 0), (9, 4), (4, 8), (6, 5), (3, 10), (5, 3), (0, 1), (2, 2), (7, 9), (9, 8), (3, 8), (10, 6), (2, 7), (1, 1), (9, 2), (6, 10), (8, 6), (5, 7)]\n",
      "[(5, 2), (6, 2), (5, 0), (0, 0), (10, 2), (2, 3), (3, 6), (3, 9), (8, 1), (3, 3), (1, 9), (8, 2), (3, 9), (9, 0), (10, 0), (7, 0), (9, 5), (4, 2), (1, 3), (4, 0), (4, 3), (2, 0), (3, 3), (5, 2), (6, 0), (7, 7), (10, 0), (0, 1), (7, 0), (3, 2), (4, 10), (4, 0), (8, 0), (2, 3), (1, 9), (1, 9), (9, 0), (8, 2), (4, 0), (0, 2), (6, 4), (10, 0), (4, 0), (1, 3), (0, 9), (9, 4), (3, 5), (6, 3), (8, 9), (6, 5), (2, 7), (9, 2), (2, 0), (9, 8), (7, 7), (0, 1), (8, 8), (8, 8), (0, 9), (0, 2), (7, 4), (10, 6), (1, 4), (10, 3), (6, 4), (1, 5), (3, 5), (5, 3), (0, 5), (10, 8), (6, 1), (4, 2), (7, 7), (6, 3), (7, 3), (9, 8), (6, 4), (4, 6), (9, 10), (0, 0), (4, 2), (4, 1), (3, 0), (9, 4), (4, 8), (6, 5), (3, 10), (5, 3), (0, 1), (2, 2), (7, 9), (9, 8), (3, 8), (10, 6), (2, 7), (1, 1), (9, 2), (6, 10), (8, 6), (5, 7)]\n",
      "[(5, 2), (6, 2), (5, 0), (0, 0), (10, 2), (2, 3), (3, 6), (3, 9), (8, 1), (3, 3), (1, 9), (8, 2), (3, 9), (9, 0), (10, 0), (7, 0), (9, 5), (4, 2), (1, 3), (4, 0), (4, 3), (2, 0), (3, 3), (5, 2), (6, 0), (7, 7), (10, 0), (0, 1), (7, 0), (3, 2), (4, 10), (4, 0), (8, 0), (2, 3), (1, 9), (1, 9), (9, 0), (8, 2), (4, 0), (0, 2), (6, 4), (10, 0), (4, 0), (1, 3), (0, 9), (9, 4), (3, 5), (6, 3), (8, 9), (6, 5), (2, 7), (9, 2), (2, 0), (9, 8), (7, 7), (0, 1), (8, 8), (8, 8), (0, 9), (0, 2), (7, 4), (10, 6), (1, 4), (10, 3), (6, 4), (1, 5), (3, 5), (5, 3), (0, 5), (10, 8), (6, 1), (4, 2), (7, 7), (6, 3), (7, 3), (9, 8), (6, 4), (4, 6), (9, 10), (0, 0), (4, 2), (4, 1), (3, 0), (9, 4), (4, 8), (6, 5), (3, 10), (5, 3), (0, 1), (2, 2), (7, 9), (9, 8), (3, 8), (10, 6), (2, 7), (1, 1), (9, 2), (6, 10), (8, 6), (5, 7)]\n",
      "[(5, 2), (6, 2), (5, 0), (0, 0), (10, 2), (2, 3), (3, 6), (3, 9), (8, 1), (3, 3), (1, 9), (8, 2), (3, 9), (9, 0), (10, 0), (7, 0), (9, 5), (4, 2), (1, 3), (4, 0), (4, 3), (2, 0), (3, 3), (5, 2), (6, 0), (7, 7), (10, 0), (0, 1), (7, 0), (3, 2), (4, 10), (4, 0), (8, 0), (2, 3), (1, 9), (1, 9), (9, 0), (8, 2), (4, 0), (0, 2), (6, 4), (10, 0), (4, 0), (1, 3), (0, 9), (9, 4), (3, 5), (6, 3), (8, 9), (6, 5), (2, 7), (9, 2), (2, 0), (9, 8), (7, 7), (0, 1), (8, 8), (8, 8), (0, 9), (0, 2), (7, 4), (10, 6), (1, 4), (10, 3), (6, 4), (1, 5), (3, 5), (5, 3), (0, 5), (10, 8), (6, 1), (4, 2), (7, 7), (6, 3), (7, 3), (9, 8), (6, 4), (4, 6), (9, 10), (0, 0), (4, 2), (4, 1), (3, 0), (9, 4), (4, 8), (6, 5), (3, 10), (5, 3), (0, 1), (2, 2), (7, 9), (9, 8), (3, 8), (10, 6), (2, 7), (1, 1), (9, 2), (6, 10), (8, 6), (5, 7)]\n",
      "[(5, 2), (6, 2), (5, 0), (0, 0), (10, 2), (2, 3), (3, 6), (3, 9), (8, 1), (3, 3), (1, 9), (8, 2), (3, 9), (9, 0), (10, 0), (7, 0), (9, 5), (4, 2), (1, 3), (4, 0), (4, 3), (2, 0), (3, 3), (5, 2), (6, 0), (7, 7), (10, 0), (0, 1), (7, 0), (3, 2), (4, 10), (4, 0), (8, 0), (2, 3), (1, 9), (1, 9), (9, 0), (8, 2), (4, 0), (0, 2), (6, 4), (10, 0), (4, 0), (1, 3), (0, 9), (9, 4), (3, 5), (6, 3), (8, 9), (6, 5), (2, 7), (9, 2), (2, 0), (9, 8), (7, 7), (0, 1), (8, 8), (8, 8), (0, 9), (0, 2), (7, 4), (10, 6), (1, 4), (10, 3), (6, 4), (1, 5), (3, 5), (5, 3), (0, 5), (10, 8), (6, 1), (4, 2), (7, 7), (6, 3), (7, 3), (9, 8), (6, 4), (4, 6), (9, 10), (0, 0), (4, 2), (4, 1), (3, 0), (9, 4), (4, 8), (6, 5), (3, 10), (5, 3), (0, 1), (2, 2), (7, 9), (9, 8), (3, 8), (10, 6), (2, 7), (1, 1), (9, 2), (6, 10), (8, 6), (5, 7)]\n"
     ]
    }
   ],
   "source": [
    "m = Mutation(0.1)\n",
    "# c = Crossover(partial(sigmoid_distance_fitness, k=0.005), 'single')\n",
    "t = Tournament(5, 50)\n",
    "steps = 100\n",
    "population_size = 100\n",
    "g = Genetic(minimize, steps, population_size, [m, c], t)\n",
    "for i in g.optimize(z):\n",
    "    print(i)"
   ]
  },
  {
   "cell_type": "code",
   "execution_count": 285,
   "metadata": {
    "collapsed": false
   },
   "outputs": [
    {
     "data": {
      "image/png": "[encoded data removed]",
      "text/plain": [
       "<matplotlib.figure.Figure at 0x7ff1b66ba400>"
      ]
     },
     "metadata": {},
     "output_type": "display_data"
    }
   ],
   "source": [
    "fig = plt.figure()\n",
    "Axes3D(fig).plot_surface(x, y, z, cmap=cm.coolwarm, linewidth=0, antialiased=False)\n",
    "plt.show()"
   ]
  },
  {
   "cell_type": "code",
   "execution_count": 286,
   "metadata": {
    "collapsed": false
   },
   "outputs": [],
   "source": [
    "# fig = plt.figure()\n",
    "\n",
    "# ax = Axes3D(fig)\n",
    "# surf = ax.plot_surface(x, y, z, cmap=cm.coolwarm, linewidth=0, antialiased=False)\n",
    "    \n",
    "# def init():\n",
    "#     ax.view_init(elev=10., azim=0)\n",
    "#     return (surf,)\n",
    "\n",
    "# def animate(i):\n",
    "#     ax.view_init(elev=10., azim=i)\n",
    "#     return (surf,)\n",
    "\n",
    "# matplotlib.rcParams['animation.writer'] = 'avconv'\n",
    "# anim = animation.FuncAnimation(fig, animate, init_func=init, frames=360, interval=20, blit=True)\n",
    "# HTML(anim.to_html5_video())"
   ]
  },
  {
   "cell_type": "code",
   "execution_count": null,
   "metadata": {
    "collapsed": true
   },
   "outputs": [],
   "source": []
  }
 ],
 "metadata": {
  "kernelspec": {
   "display_name": "Python 3",
   "language": "python",
   "name": "python3"
  },
  "language_info": {
   "codemirror_mode": {
    "name": "ipython",
    "version": 3
   },
   "file_extension": ".py",
   "mimetype": "text/x-python",
   "name": "python",
   "nbconvert_exporter": "python",
   "pygments_lexer": "ipython3",
   "version": "3.5.3"
  }
 },
 "nbformat": 4,
 "nbformat_minor": 0
}
