{
 "cells": [
  {
   "cell_type": "code",
   "execution_count": 22,
   "metadata": {
    "collapsed": true
   },
   "outputs": [],
   "source": [
    "#%matplotlib notebook\n",
    "import matplotlib\n",
    "import matplotlib.pyplot as plt\n",
    "import numpy as np\n",
    "\n",
    "from mpl_toolkits.mplot3d import Axes3D\n",
    "from matplotlib import animation, cm\n",
    "from IPython.display import HTML"
   ]
  },
  {
   "cell_type": "code",
   "execution_count": 23,
   "metadata": {
    "collapsed": false
   },
   "outputs": [],
   "source": [
    "num = 11\n",
    "x = np.linspace(-50, 50, num)\n",
    "y = np.linspace(-50, 50, num)\n",
    "x, y = np.meshgrid(x, y)"
   ]
  },
  {
   "cell_type": "code",
   "execution_count": 24,
   "metadata": {
    "collapsed": false
   },
   "outputs": [],
   "source": [
    "z = x ** 2 + y ** 2"
   ]
  },
  {
   "cell_type": "code",
   "execution_count": 25,
   "metadata": {
    "collapsed": false
   },
   "outputs": [
    {
     "name": "stdout",
     "output_type": "stream",
     "text": [
      "((1, 2), (2, 3))\n"
     ]
    },
    {
     "data": {
      "text/plain": [
       "array([ 2500.,  1300.])"
      ]
     },
     "execution_count": 25,
     "metadata": {},
     "output_type": "execute_result"
    }
   ],
   "source": [
    "idx1 = np.array([[1 ,2], [2, 3]])\n",
    "print(tuple(zip(*idx1)))\n",
    "z[tuple(zip(*idx1))]"
   ]
  },
  {
   "cell_type": "code",
   "execution_count": 26,
   "metadata": {
    "collapsed": false
   },
   "outputs": [
    {
     "data": {
      "text/plain": [
       "array([[ 5000.,  4100.,  3400.,  2900.,  2600.,  2500.,  2600.,  2900.,\n",
       "         3400.,  4100.,  5000.],\n",
       "       [ 4100.,  3200.,  2500.,  2000.,  1700.,  1600.,  1700.,  2000.,\n",
       "         2500.,  3200.,  4100.],\n",
       "       [ 3400.,  2500.,  1800.,  1300.,  1000.,   900.,  1000.,  1300.,\n",
       "         1800.,  2500.,  3400.],\n",
       "       [ 2900.,  2000.,  1300.,   800.,   500.,   400.,   500.,   800.,\n",
       "         1300.,  2000.,  2900.],\n",
       "       [ 2600.,  1700.,  1000.,   500.,   200.,   100.,   200.,   500.,\n",
       "         1000.,  1700.,  2600.],\n",
       "       [ 2500.,  1600.,   900.,   400.,   100.,     0.,   100.,   400.,\n",
       "          900.,  1600.,  2500.],\n",
       "       [ 2600.,  1700.,  1000.,   500.,   200.,   100.,   200.,   500.,\n",
       "         1000.,  1700.,  2600.],\n",
       "       [ 2900.,  2000.,  1300.,   800.,   500.,   400.,   500.,   800.,\n",
       "         1300.,  2000.,  2900.],\n",
       "       [ 3400.,  2500.,  1800.,  1300.,  1000.,   900.,  1000.,  1300.,\n",
       "         1800.,  2500.,  3400.],\n",
       "       [ 4100.,  3200.,  2500.,  2000.,  1700.,  1600.,  1700.,  2000.,\n",
       "         2500.,  3200.,  4100.],\n",
       "       [ 5000.,  4100.,  3400.,  2900.,  2600.,  2500.,  2600.,  2900.,\n",
       "         3400.,  4100.,  5000.]])"
      ]
     },
     "execution_count": 26,
     "metadata": {},
     "output_type": "execute_result"
    }
   ],
   "source": [
    "z"
   ]
  },
  {
   "cell_type": "code",
   "execution_count": 41,
   "metadata": {
    "collapsed": true
   },
   "outputs": [],
   "source": [
    "def maximize(f, point):\n",
    "    return f[tuple(point)]\n",
    "\n",
    "def minimize(f, point):\n",
    "    return -f[tuple(point)]"
   ]
  },
  {
   "cell_type": "code",
   "execution_count": 42,
   "metadata": {
    "collapsed": false
   },
   "outputs": [],
   "source": [
    "def starting_point(shape):\n",
    "    return np.array([np.random.randint(i) for i in shape])"
   ]
  },
  {
   "cell_type": "code",
   "execution_count": 43,
   "metadata": {
    "collapsed": false
   },
   "outputs": [],
   "source": [
    "#neighbor functions \n",
    "\n",
    "def l_inf_neighbors(point, shape):\n",
    "    a = np.arange(-1, 2)\n",
    "    ns = (point + np.stack(np.meshgrid(*[a for i in range(len(point))]), axis=-1)).reshape(-1, len(point))\n",
    "    gt = lambda n: np.all(np.less(n, shape)) and np.all(np.greater(n, -1)) and not np.array_equal(n, point)\n",
    "    return ns[[gt(n) for n in ns]]\n",
    "    \n",
    "# l_inf_neighbors(np.array([3, 4]), (5, 5))\n",
    "\n",
    "def random_neighbors(number, point, shape):\n",
    "    return np.hstack([np.random.randint(i, size=(number, 1)) for i in shape])   \n",
    "\n",
    "# random_neighbors(10, [1,2,3,4], (34,4,4))"
   ]
  },
  {
   "cell_type": "code",
   "execution_count": 46,
   "metadata": {
    "collapsed": false
   },
   "outputs": [],
   "source": [
    "def greedy(f, fitness, neighbors_function):\n",
    "    current = starting_point(f.shape)\n",
    "    better = True\n",
    "    while better:\n",
    "        better = False\n",
    "        for neighbor in neighbors_function(current, f.shape):\n",
    "            neighbor_value = f[tuple(neighbor)]\n",
    "            if fitness(f, neighbor) > fitness(f, current):# and neighbor_value != current_value:\n",
    "                yield neighbor\n",
    "                current = neighbor\n",
    "                current_value = neighbor_value\n",
    "                better = True\n",
    "                break"
   ]
  },
  {
   "cell_type": "code",
   "execution_count": 53,
   "metadata": {
    "collapsed": false
   },
   "outputs": [
    {
     "name": "stdout",
     "output_type": "stream",
     "text": [
      "[2 6]\n",
      "[2 5]\n",
      "[3 4]\n",
      "[4 4]\n",
      "[5 4]\n",
      "[5 5]\n"
     ]
    }
   ],
   "source": [
    "for i in greedy(z, minimize, l_inf_neighbors):\n",
    "    print i"
   ]
  },
  {
   "cell_type": "code",
   "execution_count": 31,
   "metadata": {
    "collapsed": false,
    "scrolled": true
   },
   "outputs": [
    {
     "name": "stdout",
     "output_type": "stream",
     "text": [
      "[8 4]\n",
      "[6 5]\n",
      "[4 5]\n",
      "[5 5]\n",
      "[5 5]\n",
      "[5 5]\n"
     ]
    }
   ],
   "source": [
    "#simmulated annealing: make a random move with a probability p proportional to improvement\n",
    "\n",
    "def get_temperature(temperature_0, decay_factor, step):\n",
    "    return temperature_0 * decay_factor ** step\n",
    "\n",
    "def nat_to_exp(q):\n",
    "    max_q = max(0.0, np.max(q))\n",
    "    rebased_q = q - max_q\n",
    "    return np.exp(rebased_q - np.logaddexp(-max_q, np.logaddexp.reduce(rebased_q)))\n",
    "\n",
    "\n",
    "def move_prob(f, current, neighbor, temperature):\n",
    "    d_f = f[tuple(current)] - f[tuple(neighbor)]\n",
    "    return nat_to_exp(d_f / temperature)\n",
    "#     return 1 / (1 + np.exp(- d_f / temperature))\n",
    "    \n",
    "def simulated_annealing(f, temperature_0, decay_factor, steps, neighbors_function):\n",
    "    current = starting_point(f.shape)\n",
    "    yield current\n",
    "    for step in range(steps):\n",
    "        temperature = get_temperature(temperature_0, decay_factor, step)\n",
    "        neighbor = neighbors_function(1, current, f.shape).reshape(-1)\n",
    "        if move_prob(f, current, neighbor, temperature) > np.random.random_sample():\n",
    "            current = neighbor\n",
    "            yield current\n",
    "            \n",
    "            \n",
    "        \n",
    "temperature_0 = 10\n",
    "decay_factor = 0.99\n",
    "steps = 1000\n",
    "\n",
    "for i in simulated_annealing(z, temperature_0, decay_factor, steps, random_neighbors):\n",
    "    print(i)\n",
    "        \n",
    "        "
   ]
  },
  {
   "cell_type": "code",
   "execution_count": 32,
   "metadata": {
    "collapsed": false
   },
   "outputs": [
    {
     "name": "stdout",
     "output_type": "stream",
     "text": [
      "False\n",
      "2\n",
      "3\n",
      "4\n",
      "5\n",
      "6\n"
     ]
    }
   ],
   "source": [
    "from collections import deque \n",
    "\n",
    "x = deque([], 5)\n",
    "x.append(1)\n",
    "x.append(2)\n",
    "x.append(3)\n",
    "x.append(4)\n",
    "x.append(5)\n",
    "x.append(6)\n",
    "print(1 in x)\n",
    "for i in x:\n",
    "    print(i)\n"
   ]
  },
  {
   "cell_type": "code",
   "execution_count": 77,
   "metadata": {
    "collapsed": false
   },
   "outputs": [
    {
     "name": "stdout",
     "output_type": "stream",
     "text": [
      "(0, 5)\n",
      "(1, 5)\n",
      "(2, 5)\n",
      "(3, 5)\n",
      "(4, 5)\n",
      "(5, 5)\n"
     ]
    }
   ],
   "source": [
    "def tabu(f, fitness, neighbors_function, max_tabu_size, steps):\n",
    "    best = tuple(starting_point(f.shape))\n",
    "    yield best\n",
    "    candidate = best\n",
    "    tabu_list = deque([], max_tabu_size)\n",
    "    tabu_list.append(best)\n",
    "    for step in range(steps):\n",
    "        neighbors = neighbors_function(candidate, f.shape)\n",
    "        candidate = tuple(neighbors[0])\n",
    "        for neighbor in neighbors:\n",
    "            neighbor =  tuple(neighbor)\n",
    "            if (not candidate in tabu_list) and (fitness(f, neighbor) > fitness(f, candidate)):\n",
    "                candidate = neighbor\n",
    "        \n",
    "        if fitness(f, candidate) > fitness(f, best):\n",
    "            best = candidate\n",
    "            yield best\n",
    "\n",
    "        \n",
    "        tabu_list.append(candidate)\n",
    "\n",
    "for i in tabu(z, minimize, l_inf_neighbors, 5, 100):\n",
    "    print(i)"
   ]
  },
  {
   "cell_type": "code",
   "execution_count": 78,
   "metadata": {
    "collapsed": false
   },
   "outputs": [
    {
     "ename": "ValueError",
     "evalue": "shape mismatch: objects cannot be broadcast to a single shape",
     "output_type": "error",
     "traceback": [
      "\u001b[0;31m---------------------------------------------------------------------------\u001b[0m",
      "\u001b[0;31mValueError\u001b[0m                                Traceback (most recent call last)",
      "\u001b[0;32m<ipython-input-78-ac1da46a2d1f>\u001b[0m in \u001b[0;36m<module>\u001b[0;34m()\u001b[0m\n\u001b[1;32m      1\u001b[0m \u001b[0mfig\u001b[0m \u001b[0;34m=\u001b[0m \u001b[0mplt\u001b[0m\u001b[0;34m.\u001b[0m\u001b[0mfigure\u001b[0m\u001b[0;34m(\u001b[0m\u001b[0;34m)\u001b[0m\u001b[0;34m\u001b[0m\u001b[0m\n\u001b[0;32m----> 2\u001b[0;31m \u001b[0mAxes3D\u001b[0m\u001b[0;34m(\u001b[0m\u001b[0mfig\u001b[0m\u001b[0;34m)\u001b[0m\u001b[0;34m.\u001b[0m\u001b[0mplot_surface\u001b[0m\u001b[0;34m(\u001b[0m\u001b[0mx\u001b[0m\u001b[0;34m,\u001b[0m \u001b[0my\u001b[0m\u001b[0;34m,\u001b[0m \u001b[0mz\u001b[0m\u001b[0;34m,\u001b[0m \u001b[0mcmap\u001b[0m\u001b[0;34m=\u001b[0m\u001b[0mcm\u001b[0m\u001b[0;34m.\u001b[0m\u001b[0mcoolwarm\u001b[0m\u001b[0;34m,\u001b[0m \u001b[0mlinewidth\u001b[0m\u001b[0;34m=\u001b[0m\u001b[0;36m0\u001b[0m\u001b[0;34m,\u001b[0m \u001b[0mantialiased\u001b[0m\u001b[0;34m=\u001b[0m\u001b[0mFalse\u001b[0m\u001b[0;34m)\u001b[0m\u001b[0;34m\u001b[0m\u001b[0m\n\u001b[0m\u001b[1;32m      3\u001b[0m \u001b[0mplt\u001b[0m\u001b[0;34m.\u001b[0m\u001b[0mshow\u001b[0m\u001b[0;34m(\u001b[0m\u001b[0;34m)\u001b[0m\u001b[0;34m\u001b[0m\u001b[0m\n",
      "\u001b[0;32m/usr/local/lib/python2.7/dist-packages/mpl_toolkits/mplot3d/axes3d.pyc\u001b[0m in \u001b[0;36mplot_surface\u001b[0;34m(self, X, Y, Z, *args, **kwargs)\u001b[0m\n\u001b[1;32m   1593\u001b[0m         \u001b[0mZ\u001b[0m \u001b[0;34m=\u001b[0m \u001b[0mnp\u001b[0m\u001b[0;34m.\u001b[0m\u001b[0matleast_2d\u001b[0m\u001b[0;34m(\u001b[0m\u001b[0mZ\u001b[0m\u001b[0;34m)\u001b[0m\u001b[0;34m\u001b[0m\u001b[0m\n\u001b[1;32m   1594\u001b[0m         \u001b[0;31m# TODO: Support masked arrays\u001b[0m\u001b[0;34m\u001b[0m\u001b[0;34m\u001b[0m\u001b[0m\n\u001b[0;32m-> 1595\u001b[0;31m         \u001b[0mX\u001b[0m\u001b[0;34m,\u001b[0m \u001b[0mY\u001b[0m\u001b[0;34m,\u001b[0m \u001b[0mZ\u001b[0m \u001b[0;34m=\u001b[0m \u001b[0mnp\u001b[0m\u001b[0;34m.\u001b[0m\u001b[0mbroadcast_arrays\u001b[0m\u001b[0;34m(\u001b[0m\u001b[0mX\u001b[0m\u001b[0;34m,\u001b[0m \u001b[0mY\u001b[0m\u001b[0;34m,\u001b[0m \u001b[0mZ\u001b[0m\u001b[0;34m)\u001b[0m\u001b[0;34m\u001b[0m\u001b[0m\n\u001b[0m\u001b[1;32m   1596\u001b[0m         \u001b[0mrows\u001b[0m\u001b[0;34m,\u001b[0m \u001b[0mcols\u001b[0m \u001b[0;34m=\u001b[0m \u001b[0mZ\u001b[0m\u001b[0;34m.\u001b[0m\u001b[0mshape\u001b[0m\u001b[0;34m\u001b[0m\u001b[0m\n\u001b[1;32m   1597\u001b[0m \u001b[0;34m\u001b[0m\u001b[0m\n",
      "\u001b[0;32m/home/grzes/.local/lib/python2.7/site-packages/numpy/lib/stride_tricks.pyc\u001b[0m in \u001b[0;36mbroadcast_arrays\u001b[0;34m(*args, **kwargs)\u001b[0m\n\u001b[1;32m    247\u001b[0m     \u001b[0margs\u001b[0m \u001b[0;34m=\u001b[0m \u001b[0;34m[\u001b[0m\u001b[0mnp\u001b[0m\u001b[0;34m.\u001b[0m\u001b[0marray\u001b[0m\u001b[0;34m(\u001b[0m\u001b[0m_m\u001b[0m\u001b[0;34m,\u001b[0m \u001b[0mcopy\u001b[0m\u001b[0;34m=\u001b[0m\u001b[0mFalse\u001b[0m\u001b[0;34m,\u001b[0m \u001b[0msubok\u001b[0m\u001b[0;34m=\u001b[0m\u001b[0msubok\u001b[0m\u001b[0;34m)\u001b[0m \u001b[0;32mfor\u001b[0m \u001b[0m_m\u001b[0m \u001b[0;32min\u001b[0m \u001b[0margs\u001b[0m\u001b[0;34m]\u001b[0m\u001b[0;34m\u001b[0m\u001b[0m\n\u001b[1;32m    248\u001b[0m \u001b[0;34m\u001b[0m\u001b[0m\n\u001b[0;32m--> 249\u001b[0;31m     \u001b[0mshape\u001b[0m \u001b[0;34m=\u001b[0m \u001b[0m_broadcast_shape\u001b[0m\u001b[0;34m(\u001b[0m\u001b[0;34m*\u001b[0m\u001b[0margs\u001b[0m\u001b[0;34m)\u001b[0m\u001b[0;34m\u001b[0m\u001b[0m\n\u001b[0m\u001b[1;32m    250\u001b[0m \u001b[0;34m\u001b[0m\u001b[0m\n\u001b[1;32m    251\u001b[0m     \u001b[0;32mif\u001b[0m \u001b[0mall\u001b[0m\u001b[0;34m(\u001b[0m\u001b[0marray\u001b[0m\u001b[0;34m.\u001b[0m\u001b[0mshape\u001b[0m \u001b[0;34m==\u001b[0m \u001b[0mshape\u001b[0m \u001b[0;32mfor\u001b[0m \u001b[0marray\u001b[0m \u001b[0;32min\u001b[0m \u001b[0margs\u001b[0m\u001b[0;34m)\u001b[0m\u001b[0;34m:\u001b[0m\u001b[0;34m\u001b[0m\u001b[0m\n",
      "\u001b[0;32m/home/grzes/.local/lib/python2.7/site-packages/numpy/lib/stride_tricks.pyc\u001b[0m in \u001b[0;36m_broadcast_shape\u001b[0;34m(*args)\u001b[0m\n\u001b[1;32m    182\u001b[0m     \u001b[0;31m# use the old-iterator because np.nditer does not handle size 0 arrays\u001b[0m\u001b[0;34m\u001b[0m\u001b[0;34m\u001b[0m\u001b[0m\n\u001b[1;32m    183\u001b[0m     \u001b[0;31m# consistently\u001b[0m\u001b[0;34m\u001b[0m\u001b[0;34m\u001b[0m\u001b[0m\n\u001b[0;32m--> 184\u001b[0;31m     \u001b[0mb\u001b[0m \u001b[0;34m=\u001b[0m \u001b[0mnp\u001b[0m\u001b[0;34m.\u001b[0m\u001b[0mbroadcast\u001b[0m\u001b[0;34m(\u001b[0m\u001b[0;34m*\u001b[0m\u001b[0margs\u001b[0m\u001b[0;34m[\u001b[0m\u001b[0;34m:\u001b[0m\u001b[0;36m32\u001b[0m\u001b[0;34m]\u001b[0m\u001b[0;34m)\u001b[0m\u001b[0;34m\u001b[0m\u001b[0m\n\u001b[0m\u001b[1;32m    185\u001b[0m     \u001b[0;31m# unfortunately, it cannot handle 32 or more arguments directly\u001b[0m\u001b[0;34m\u001b[0m\u001b[0;34m\u001b[0m\u001b[0m\n\u001b[1;32m    186\u001b[0m     \u001b[0;32mfor\u001b[0m \u001b[0mpos\u001b[0m \u001b[0;32min\u001b[0m \u001b[0mrange\u001b[0m\u001b[0;34m(\u001b[0m\u001b[0;36m32\u001b[0m\u001b[0;34m,\u001b[0m \u001b[0mlen\u001b[0m\u001b[0;34m(\u001b[0m\u001b[0margs\u001b[0m\u001b[0;34m)\u001b[0m\u001b[0;34m,\u001b[0m \u001b[0;36m31\u001b[0m\u001b[0;34m)\u001b[0m\u001b[0;34m:\u001b[0m\u001b[0;34m\u001b[0m\u001b[0m\n",
      "\u001b[0;31mValueError\u001b[0m: shape mismatch: objects cannot be broadcast to a single shape"
     ]
    }
   ],
   "source": [
    "fig = plt.figure()\n",
    "Axes3D(fig).plot_surface(x, y, z, cmap=cm.coolwarm, linewidth=0, antialiased=False)\n",
    "plt.show()"
   ]
  },
  {
   "cell_type": "code",
   "execution_count": 13,
   "metadata": {
    "collapsed": false
   },
   "outputs": [],
   "source": [
    "# fig = plt.figure()\n",
    "\n",
    "# ax = Axes3D(fig)\n",
    "# surf = ax.plot_surface(x, y, z, cmap=cm.coolwarm, linewidth=0, antialiased=False)\n",
    "    \n",
    "# def init():\n",
    "#     ax.view_init(elev=10., azim=0)\n",
    "#     return (surf,)\n",
    "\n",
    "# def animate(i):\n",
    "#     ax.view_init(elev=10., azim=i)\n",
    "#     return (surf,)\n",
    "\n",
    "# matplotlib.rcParams['animation.writer'] = 'avconv'\n",
    "# anim = animation.FuncAnimation(fig, animate, init_func=init, frames=360, interval=20, blit=True)\n",
    "# HTML(anim.to_html5_video())"
   ]
  },
  {
   "cell_type": "code",
   "execution_count": null,
   "metadata": {
    "collapsed": true
   },
   "outputs": [],
   "source": []
  }
 ],
 "metadata": {
  "kernelspec": {
   "display_name": "Python 3",
   "language": "python",
   "name": "python3"
  },
  "language_info": {
   "codemirror_mode": {
    "name": "ipython",
    "version": 2
   },
   "file_extension": ".py",
   "mimetype": "text/x-python",
   "name": "python",
   "nbconvert_exporter": "python",
   "pygments_lexer": "ipython2",
   "version": "2.7.13"
  }
 },
 "nbformat": 4,
 "nbformat_minor": 2
}
